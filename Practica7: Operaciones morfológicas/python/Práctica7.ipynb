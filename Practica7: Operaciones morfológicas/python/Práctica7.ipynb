{
  "nbformat": 4,
  "nbformat_minor": 0,
  "metadata": {
    "colab": {
      "provenance": [],
      "authorship_tag": "ABX9TyP3ndi/uLTMinwMI/h5AJK7",
      "include_colab_link": true
    },
    "kernelspec": {
      "name": "python3",
      "display_name": "Python 3"
    },
    "language_info": {
      "name": "python"
    }
  },
  "cells": [
    {
      "cell_type": "markdown",
      "metadata": {
        "id": "view-in-github",
        "colab_type": "text"
      },
      "source": [
        "<a href=\"https://colab.research.google.com/github/Jegovila/cursoVR/blob/main/Practica7%3A%20Operaciones%20morfol%C3%B3gicas/python/Pr%C3%A1ctica7.ipynb\" target=\"_parent\"><img src=\"https://colab.research.google.com/assets/colab-badge.svg\" alt=\"Open In Colab\"/></a>"
      ]
    },
    {
      "cell_type": "code",
      "source": [
        "!wget -nc \"https://raw.githubusercontent.com/Jegovila/cursoVR/main/Practica1%3A%20Fundamentos%20del%20PDI/data/lena.bmp\""
      ],
      "metadata": {
        "id": "8IWIdToKJocU"
      },
      "execution_count": null,
      "outputs": []
    },
    {
      "cell_type": "code",
      "source": [
        "import cv2\n",
        "import numpy as np\n",
        "import matplotlib.pyplot as plt\n",
        "from google.colab.patches import cv2_imshow"
      ],
      "metadata": {
        "id": "mNbDw-gwJb4r"
      },
      "execution_count": 2,
      "outputs": []
    },
    {
      "cell_type": "code",
      "source": [
        "src = cv2.imread(\"lena.bmp\")                                    # Leer\n",
        "src = cv2.cvtColor(src, cv2.COLOR_BGR2GRAY)                     # Escala grises\n",
        "_, src_bin = cv2.threshold(src, 120, 255, cv2.THRESH_BINARY)     # Binaria\n",
        "cv2_imshow(src_bin)"
      ],
      "metadata": {
        "id": "ijWw-AEGKMLE"
      },
      "execution_count": null,
      "outputs": []
    },
    {
      "cell_type": "markdown",
      "source": [
        "# Erosión y dilatación"
      ],
      "metadata": {
        "id": "S5CMrEjfLAbp"
      }
    },
    {
      "cell_type": "code",
      "source": [
        "kernel = np.ones((5, 5), np.uint8)"
      ],
      "metadata": {
        "id": "HlSqW5bRLR87"
      },
      "execution_count": null,
      "outputs": []
    },
    {
      "cell_type": "markdown",
      "source": [
        "Erosión"
      ],
      "metadata": {
        "id": "Zpvyvqt8LDOm"
      }
    },
    {
      "cell_type": "code",
      "source": [
        "fig, ax = plt.subplots(1, 3, figsize=(20,14))\n",
        "fig.tight_layout()\n",
        "\n",
        "plt.subplot(1,3,1)\n",
        "plt.imshow(255 - src_bin, cmap=\"binary\")\n",
        "plt.subplot(1,3,2)\n",
        "plt.imshow(255 - cv2.erode(src_bin, kernel, iterations=1), cmap=\"binary\")\n",
        "plt.subplot(1,3,3)\n",
        "plt.imshow(255 - cv2.erode(src_bin, kernel, iterations=2), cmap=\"binary\")"
      ],
      "metadata": {
        "id": "McqmchCzK_o0"
      },
      "execution_count": null,
      "outputs": []
    },
    {
      "cell_type": "markdown",
      "source": [
        "Dilatación"
      ],
      "metadata": {
        "id": "rRj6r2FsLMlj"
      }
    },
    {
      "cell_type": "code",
      "source": [
        "fig, ax = plt.subplots(1, 3, figsize=(20,14))\n",
        "fig.tight_layout()\n",
        "\n",
        "plt.subplot(1,3,1)\n",
        "plt.imshow(255 - src_bin, cmap=\"binary\")\n",
        "plt.subplot(1,3,2)\n",
        "plt.imshow(255 - cv2.dilate(src_bin, kernel, iterations=1), cmap=\"binary\")\n",
        "plt.subplot(1,3,3)\n",
        "plt.imshow(255 - cv2.dilate(src_bin, kernel, iterations=2), cmap=\"binary\")"
      ],
      "metadata": {
        "id": "AFGCARk0LNqK"
      },
      "execution_count": null,
      "outputs": []
    },
    {
      "cell_type": "markdown",
      "source": [
        "Erosión y dilatación"
      ],
      "metadata": {
        "id": "0pzsEwe8NtxC"
      }
    },
    {
      "cell_type": "code",
      "source": [
        "im_out = cv2.erode(src_bin, kernel, iterations=1)      # Erosion\n",
        "im_out = cv2.dilate(im_out, kernel, iterations=1)    # Dilatacion\n",
        "\n",
        "fig, ax = plt.subplots(1, 3, figsize=(10,7))\n",
        "fig.tight_layout()\n",
        "plt.clf()\n",
        "plt.subplot(1,3,1)\n",
        "plt.imshow(255 - src_bin, cmap=\"binary\")\n",
        "plt.subplot(1,3,2)\n",
        "plt.imshow(255 - im_out, cmap=\"binary\")\n",
        "plt.title(\"1 iteración\")\n",
        "\n",
        "im_out = cv2.erode(src_bin, kernel, iterations=2)      # Erosion\n",
        "im_out = cv2.dilate(im_out, kernel, iterations=2)    # Dilatacion\n",
        "plt.subplot(1,3,3)\n",
        "plt.imshow(255 - im_out, cmap=\"binary\")\n",
        "plt.title(\"2 iteraciones\")"
      ],
      "metadata": {
        "id": "yKRhUzYFNhDG"
      },
      "execution_count": null,
      "outputs": []
    },
    {
      "cell_type": "markdown",
      "source": [
        "Apertura"
      ],
      "metadata": {
        "id": "h70mbQAKXt3K"
      }
    },
    {
      "cell_type": "code",
      "source": [
        "im_open1 = cv2.morphologyEx(src_bin, cv2.MORPH_OPEN, kernel)\n",
        "\n",
        "im_open3 = cv2.morphologyEx(src_bin, cv2.MORPH_OPEN, kernel)\n",
        "im_open3 = cv2.morphologyEx(im_open3, cv2.MORPH_OPEN, kernel)\n",
        "im_open3 = cv2.morphologyEx(im_open3, cv2.MORPH_OPEN, kernel)\n",
        "\n",
        "fig, ax = plt.subplots(1, 3, figsize=(10,7))\n",
        "fig.tight_layout()\n",
        "plt.clf()\n",
        "plt.subplot(1,3,1)\n",
        "plt.imshow(255 - src_bin, cmap=\"binary\")\n",
        "plt.subplot(1,3,2)\n",
        "plt.imshow(255 - im_open1, cmap=\"binary\")\n",
        "plt.title(\"1 apertura\")\n",
        "plt.subplot(1,3,3)\n",
        "plt.imshow(255 - im_open3, cmap=\"binary\")\n",
        "plt.title(\"3 aperturas\")"
      ],
      "metadata": {
        "id": "KJ3Qc9OxXu0z"
      },
      "execution_count": null,
      "outputs": []
    },
    {
      "cell_type": "markdown",
      "source": [
        "Cierre"
      ],
      "metadata": {
        "id": "v1ldsvtaYGHN"
      }
    },
    {
      "cell_type": "code",
      "source": [
        "fig, ax = plt.subplots(1,2, figsize=(10,7))\n",
        "fig.tight_layout()\n",
        "plt.clf()\n",
        "plt.subplot(1,3,1)\n",
        "plt.imshow(255 - src_bin, cmap=\"binary\")\n",
        "plt.subplot(1,3,2)\n",
        "plt.imshow(255 - cv2.morphologyEx(src_bin, cv2.MORPH_CLOSE, kernel), cmap=\"binary\")"
      ],
      "metadata": {
        "id": "bu0t6STeYG2r"
      },
      "execution_count": null,
      "outputs": []
    },
    {
      "cell_type": "markdown",
      "source": [
        "# Detección de bordes"
      ],
      "metadata": {
        "id": "sW3a5qnvZdvc"
      }
    },
    {
      "cell_type": "code",
      "source": [
        "src = cv2.imread(\"lena.bmp\")                                    # Leer\n",
        "src = cv2.cvtColor(src, cv2.COLOR_BGR2GRAY)                     # Escala grises\n",
        "\n",
        "n = 7\n",
        "h = np.ones((n, n), np.float32)/(n*n)\n",
        "\n",
        "src_s = cv2.filter2D(src, -1, h)\n",
        "\n",
        "kernel = np.ones((2, 2), np.uint8)\n",
        "\n",
        "_, src_bin = cv2.threshold(src, 120, 255, cv2.THRESH_BINARY)      # sin suavizar\n",
        "_, src_bin_s = cv2.threshold(src_s, 120, 255, cv2.THRESH_BINARY)   # suavizada\n",
        "\n",
        "# Sin suavizar\n",
        "srcE = cv2.erode(src_bin, kernel, iterations=1)\n",
        "srcE_inv = cv2.bitwise_not(srcE)\n",
        "I_bordes = cv2.bitwise_and(srcE_inv, src_bin)\n",
        "\n",
        "srcE_s = cv2.erode(src_bin_s, kernel, iterations=1)\n",
        "srcE_inv_s = cv2.bitwise_not(srcE_s)\n",
        "I_bordes_s = cv2.bitwise_and(srcE_inv_s, src_bin_s)\n",
        "\n",
        "fig, ax = plt.subplots(1, 2, figsize=(10,7))\n",
        "fig.tight_layout()\n",
        "plt.clf()\n",
        "plt.subplot(1,2,1)\n",
        "plt.imshow(255 - I_bordes, cmap=\"binary\")\n",
        "plt.title(\"Sin suavizar\")\n",
        "plt.subplot(1,2,2)\n",
        "plt.imshow(255 - I_bordes_s, cmap=\"binary\")\n",
        "plt.title(\"Suavizada\")"
      ],
      "metadata": {
        "id": "hKNZ0yR2Zfhr"
      },
      "execution_count": null,
      "outputs": []
    },
    {
      "cell_type": "markdown",
      "source": [
        "# Detección de movimiento"
      ],
      "metadata": {
        "id": "ckQtZ6tzTIHf"
      }
    },
    {
      "cell_type": "markdown",
      "source": [
        "### Función para leer webcam"
      ],
      "metadata": {
        "id": "hWgMTr-IMERF"
      }
    },
    {
      "cell_type": "code",
      "execution_count": 3,
      "metadata": {
        "id": "K0-S3lkJIZ_b"
      },
      "outputs": [],
      "source": [
        "from IPython.display import display, Javascript\n",
        "from google.colab.output import eval_js\n",
        "from base64 import b64decode\n",
        "\n",
        "def take_photo(filename='photo.jpg', quality=0.8):\n",
        "  js = Javascript('''\n",
        "    async function takePhoto(quality) {\n",
        "      const div = document.createElement('div');\n",
        "      const capture = document.createElement('button');\n",
        "      capture.textContent = 'Capture';\n",
        "      div.appendChild(capture);\n",
        "\n",
        "      const video = document.createElement('video');\n",
        "      video.style.display = 'block';\n",
        "      const stream = await navigator.mediaDevices.getUserMedia({video: true});\n",
        "\n",
        "      document.body.appendChild(div);\n",
        "      div.appendChild(video);\n",
        "      video.srcObject = stream;\n",
        "      await video.play();\n",
        "\n",
        "      // Resize the output to fit the video element.\n",
        "      google.colab.output.setIframeHeight(document.documentElement.scrollHeight, true);\n",
        "\n",
        "      // Wait for Capture to be clicked.\n",
        "      await new Promise((resolve) => capture.onclick = resolve);\n",
        "\n",
        "      const canvas = document.createElement('canvas');\n",
        "      canvas.width = video.videoWidth;\n",
        "      canvas.height = video.videoHeight;\n",
        "      canvas.getContext('2d').drawImage(video, 0, 0);\n",
        "      stream.getVideoTracks()[0].stop();\n",
        "      div.remove();\n",
        "      return canvas.toDataURL('image/jpeg', quality);\n",
        "    }\n",
        "    ''')\n",
        "  display(js)\n",
        "  data = eval_js('takePhoto({})'.format(quality))\n",
        "  binary = b64decode(data.split(',')[1])\n",
        "  with open(filename, 'wb') as f:\n",
        "    f.write(binary)\n",
        "  return filename"
      ]
    },
    {
      "cell_type": "markdown",
      "source": [
        "### Captura de imágenes"
      ],
      "metadata": {
        "id": "0RvKgOEWMGv1"
      }
    },
    {
      "cell_type": "markdown",
      "source": [
        "Captura de imagen de referencia"
      ],
      "metadata": {
        "id": "icbQ_G2xO3Ig"
      }
    },
    {
      "cell_type": "code",
      "source": [
        "from IPython.display import Image\n",
        "try:\n",
        "  filename = take_photo(\"ref.jpg\")\n",
        "  print('Saved to {}'.format(filename))\n",
        "\n",
        "  # Show the image which was just taken.\n",
        "  display(Image(filename))\n",
        "except Exception as err:\n",
        "  # Errors will be thrown if the user does not have a webcam or if they do not\n",
        "  # grant the page permission to access it.\n",
        "  print(str(err))"
      ],
      "metadata": {
        "id": "mZtR0XtdIlAW"
      },
      "execution_count": null,
      "outputs": []
    },
    {
      "cell_type": "markdown",
      "source": [
        "Captura imagen nueva"
      ],
      "metadata": {
        "id": "h2OuH43wMJ9n"
      }
    },
    {
      "cell_type": "code",
      "source": [
        "try:\n",
        "  filename = take_photo(\"actual.jpg\")\n",
        "  print('Saved to {}'.format(filename))\n",
        "\n",
        "  # Show the image which was just taken.\n",
        "  display(Image(filename))\n",
        "except Exception as err:\n",
        "  # Errors will be thrown if the user does not have a webcam or if they do not\n",
        "  # grant the page permission to access it.\n",
        "  print(str(err))"
      ],
      "metadata": {
        "id": "3zg0gbKMMU41"
      },
      "execution_count": null,
      "outputs": []
    },
    {
      "cell_type": "markdown",
      "source": [
        "### Detector"
      ],
      "metadata": {
        "id": "7RaxU9aTNNUd"
      }
    },
    {
      "cell_type": "code",
      "source": [
        "params = cv2.SimpleBlobDetector_Params()\n",
        "# # Change thresholds\n",
        "# params.minThreshold = 10\n",
        "# params.maxThreshold = 200\n",
        "\n",
        "# Filter by Area.\n",
        "params.filterByArea = False\n",
        "params.minArea = 15\n",
        "\n",
        "# Filter by Circularity\n",
        "params.filterByCircularity = False\n",
        "params.minCircularity = 0.1\n",
        "\n",
        "# Filter by Convexity\n",
        "params.filterByConvexity = False\n",
        "params.minConvexity = 0.87\n",
        "\n",
        "# Filter by Inertia\n",
        "params.filterByInertia = False\n",
        "params.minInertiaRatio = 0.01\n",
        "\n",
        "# Create a detector with the parameters\n",
        "detector = cv2.SimpleBlobDetector_create(params)"
      ],
      "metadata": {
        "id": "A1LvQp7RPAjV"
      },
      "execution_count": 25,
      "outputs": []
    },
    {
      "cell_type": "markdown",
      "source": [
        "### Detección de movimiento"
      ],
      "metadata": {
        "id": "Qr_GJwXbMne-"
      }
    },
    {
      "cell_type": "code",
      "source": [
        "ref = cv2.imread(\"ref.jpg\", cv2.IMREAD_GRAYSCALE)\n",
        "actual = cv2.imread(\"actual.jpg\", cv2.IMREAD_GRAYSCALE)\n",
        "\n",
        "I_diff = np.abs(ref - actual)\n",
        "_, I_diff_bin = cv2.threshold(I_diff, 80, 255, cv2.THRESH_BINARY)\n",
        "\n",
        "kernel = np.ones((5, 5), np.uint8)\n",
        "im_salida = cv2.erode(I_diff_bin, kernel, iterations=3)\n",
        "im_salida = cv2.dilate(im_salida, kernel, iterations=6)\n",
        "\n",
        "im_salida = cv2.bitwise_not(im_salida)        # Detecta los blobs negros\n",
        "keypoints = detector.detect(im_salida)\n",
        "nblobs = len(keypoints)\n",
        "print(\"Objetos: \", nblobs)\n",
        "im_with_keypoints = cv2.drawKeypoints(actual, keypoints, np.array([]), (255, 0, 0),\n",
        "                                      cv2.DRAW_MATCHES_FLAGS_DRAW_RICH_KEYPOINTS)\n",
        "\n",
        "fig, ax = plt.subplots(1, 2, figsize=(10,7))\n",
        "fig.tight_layout()\n",
        "plt.clf()\n",
        "plt.subplot(1,2,1)\n",
        "plt.imshow(im_salida, cmap=\"binary\")\n",
        "plt.subplot(1,2,2)\n",
        "plt.imshow(im_with_keypoints)"
      ],
      "metadata": {
        "id": "L2izjNxEMos6"
      },
      "execution_count": null,
      "outputs": []
    }
  ]
}