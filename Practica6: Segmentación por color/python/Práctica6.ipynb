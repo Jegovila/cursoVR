{
  "nbformat": 4,
  "nbformat_minor": 0,
  "metadata": {
    "colab": {
      "provenance": [],
      "authorship_tag": "ABX9TyOQVQwDccaA9F6YU9djhK6D",
      "include_colab_link": true
    },
    "kernelspec": {
      "name": "python3",
      "display_name": "Python 3"
    },
    "language_info": {
      "name": "python"
    }
  },
  "cells": [
    {
      "cell_type": "markdown",
      "metadata": {
        "id": "view-in-github",
        "colab_type": "text"
      },
      "source": [
        "<a href=\"https://colab.research.google.com/github/Jegovila/cursoVR/blob/main/Practica6%3A%20Segmentaci%C3%B3n%20por%20color/python/Pr%C3%A1ctica6.ipynb\" target=\"_parent\"><img src=\"https://colab.research.google.com/assets/colab-badge.svg\" alt=\"Open In Colab\"/></a>"
      ]
    },
    {
      "cell_type": "markdown",
      "source": [
        "# Captura de imagen"
      ],
      "metadata": {
        "id": "9GVjfVf2_tG9"
      }
    },
    {
      "cell_type": "code",
      "source": [
        "from IPython.display import display, Javascript\n",
        "from google.colab.output import eval_js\n",
        "from base64 import b64decode\n",
        "\n",
        "def take_photo(filename='photo.jpg', quality=0.8):\n",
        "  js = Javascript('''\n",
        "    async function takePhoto(quality) {\n",
        "      const div = document.createElement('div');\n",
        "      const capture = document.createElement('button');\n",
        "      capture.textContent = 'Capture';\n",
        "      div.appendChild(capture);\n",
        "\n",
        "      const video = document.createElement('video');\n",
        "      video.style.display = 'block';\n",
        "      const stream = await navigator.mediaDevices.getUserMedia({video: true});\n",
        "\n",
        "      document.body.appendChild(div);\n",
        "      div.appendChild(video);\n",
        "      video.srcObject = stream;\n",
        "      await video.play();\n",
        "\n",
        "      // Resize the output to fit the video element.\n",
        "      google.colab.output.setIframeHeight(document.documentElement.scrollHeight, true);\n",
        "\n",
        "      // Wait for Capture to be clicked.\n",
        "      await new Promise((resolve) => capture.onclick = resolve);\n",
        "\n",
        "      const canvas = document.createElement('canvas');\n",
        "      canvas.width = video.videoWidth;\n",
        "      canvas.height = video.videoHeight;\n",
        "      canvas.getContext('2d').drawImage(video, 0, 0);\n",
        "      stream.getVideoTracks()[0].stop();\n",
        "      div.remove();\n",
        "      return canvas.toDataURL('image/jpeg', quality);\n",
        "    }\n",
        "    ''')\n",
        "  display(js)\n",
        "  data = eval_js('takePhoto({})'.format(quality))\n",
        "  binary = b64decode(data.split(',')[1])\n",
        "  with open(filename, 'wb') as f:\n",
        "    f.write(binary)\n",
        "  return filename"
      ],
      "metadata": {
        "id": "xonG9eSW_IIE"
      },
      "execution_count": 1,
      "outputs": []
    },
    {
      "cell_type": "code",
      "source": [
        "from IPython.display import Image\n",
        "try:\n",
        "  filename = take_photo()\n",
        "  print('Saved to {}'.format(filename))\n",
        "\n",
        "  # Show the image which was just taken.\n",
        "  display(Image(filename))\n",
        "except Exception as err:\n",
        "  # Errors will be thrown if the user does not have a webcam or if they do not\n",
        "  # grant the page permission to access it.\n",
        "  print(str(err))"
      ],
      "metadata": {
        "id": "6IVzAJK8_IIG"
      },
      "execution_count": null,
      "outputs": []
    },
    {
      "cell_type": "markdown",
      "source": [
        "# Recorte de la imagen"
      ],
      "metadata": {
        "id": "EHWFflwQ_3KG"
      }
    },
    {
      "cell_type": "code",
      "source": [
        "import cv2\n",
        "from matplotlib import pyplot as plt"
      ],
      "metadata": {
        "id": "k1vK_y8b_5Cu"
      },
      "execution_count": 4,
      "outputs": []
    },
    {
      "cell_type": "code",
      "source": [
        "I = cv2.imread('photo.jpg')\n",
        "#I = cv2.resize(I, (500, 333))\n",
        "#plt.axis(\"off\")\n",
        "plt.imshow(cv2.cvtColor(I, cv2.COLOR_BGR2RGB))\n",
        "print(I.shape)"
      ],
      "metadata": {
        "id": "ywqkNltcAAj2"
      },
      "execution_count": null,
      "outputs": []
    },
    {
      "cell_type": "code",
      "source": [
        "x=100 # int(input(\"Enter Start point on x axis:\"))\n",
        "y=250 # int(input(\"Enter Start point on y axis:\"))\n",
        "\n",
        "w=100 # int(input(\"Enter width of cropped image:\"))\n",
        "h=50  # int(input(\"Enter height of cropped image:\"))\n",
        "\n",
        "cropped_image = I[y:y+h, x:x+w] # Cropping using Slicing\n",
        "plt.axis(\"off\")\n",
        "plt.imshow(cv2.cvtColor(cropped_image, cv2.COLOR_BGR2RGB))\n",
        "plt.show() # Display the original image\n",
        "print(cropped_image.shape)\n",
        "\n",
        "cv2.imwrite(\"crop.jpg\", cropped_image)"
      ],
      "metadata": {
        "id": "z5gnLkbOAfo0"
      },
      "execution_count": null,
      "outputs": []
    },
    {
      "cell_type": "markdown",
      "source": [
        "# Segmentación por color"
      ],
      "metadata": {
        "id": "xLYwGbD_CF8O"
      }
    },
    {
      "cell_type": "code",
      "source": [
        "import numpy as np"
      ],
      "metadata": {
        "id": "rjc7NXGmCx0a"
      },
      "execution_count": 16,
      "outputs": []
    },
    {
      "cell_type": "code",
      "source": [
        "I = cv2.imread(\"photo.jpg\")\n",
        "Iroi = cv2.imread(\"crop.jpg\")\n",
        "b, g, r = cv2.split(Iroi)\n",
        "m, n, o = I.shape\n",
        "\n",
        "# Media\n",
        "# Ar = np.mean(Iroi[:,:,2])    # recordar que es -> BGR\n",
        "Ar = np.mean(r)\n",
        "Ag = np.mean(g)\n",
        "Ab = np.mean(b)\n",
        "\n",
        "# Convertir a double\n",
        "Rd = r.astype(np.float64)\n",
        "Gd = g.astype(np.float64)\n",
        "Bd = b.astype(np.float64)\n",
        "\n",
        "# std\n",
        "Dr = np.std(Rd)\n",
        "Dg = np.std(Gd)\n",
        "Db = np.std(Bd)"
      ],
      "metadata": {
        "id": "ZRmTyQqXCHkC"
      },
      "execution_count": 22,
      "outputs": []
    },
    {
      "cell_type": "markdown",
      "source": [
        "Detección"
      ],
      "metadata": {
        "id": "1-SJb4LXC-PN"
      }
    },
    {
      "cell_type": "code",
      "source": [
        "Ig = cv2.cvtColor(I, cv2.COLOR_BGR2GRAY)\n",
        "IBW = np.zeros((m, n), dtype=np.uint8)\n",
        "\n",
        "s = 2\n",
        "\n",
        "for i in range(m):\n",
        "    for j in range(n):\n",
        "        if ((Ar + s * Dr) > I[i, j, 2] > (Ar - s * Dr) and\n",
        "                (Ag + s * Dg) > I[i, j, 1] > (Ag - s * Dg) and\n",
        "                (Ab + s * Db) > I[i, j, 0] > (Ab - s * Db)):\n",
        "            IBW[i, j] = 255\n",
        "        else:\n",
        "            IBW[i, j] = 0\n"
      ],
      "metadata": {
        "id": "Z0gmOgRKC_C4"
      },
      "execution_count": 23,
      "outputs": []
    },
    {
      "cell_type": "markdown",
      "source": [
        "Encerrar los blobs que sean True"
      ],
      "metadata": {
        "id": "1Q6p0Ay-DVoT"
      }
    },
    {
      "cell_type": "code",
      "source": [
        "try:\n",
        "    white_pixels = np.array(np.where(IBW == 255))\n",
        "    min_fila = np.min(white_pixels[0, :])\n",
        "    min_col = np.min(white_pixels[1, :])\n",
        "    max_fila = np.max(white_pixels[0, :])\n",
        "    max_col = np.max(white_pixels[1, :])\n",
        "    start = [min_col, min_fila]\n",
        "    end = [max_col, max_fila]\n",
        "    # image = cv2.rectangle(image, start_point, end_point, color, thickness)\n",
        "    I = cv2.rectangle(I, start, end, (0, 255, 0), 2)\n",
        "\n",
        "    center2 = min_fila + (max_fila - min_fila) / 2\n",
        "    center1 = min_col + (max_col - min_col) / 2\n",
        "    # image = cv.circle(image, centerOfCircle, radius, color, thickness)\n",
        "    I = cv2.circle(I, [int(center1), int(center2)], 10, (0, 255, 255), -1)\n",
        "except:\n",
        "    pass"
      ],
      "metadata": {
        "id": "K9t5_BJ2DPZv"
      },
      "execution_count": 24,
      "outputs": []
    },
    {
      "cell_type": "markdown",
      "source": [
        "Resultados"
      ],
      "metadata": {
        "id": "0RZkNgz_F2ml"
      }
    },
    {
      "cell_type": "code",
      "source": [
        "fig, ax = plt.subplots(1, 2, figsize=(20,14))\n",
        "fig.tight_layout()\n",
        "\n",
        "plt.subplot(1,2,1)\n",
        "plt.imshow(cv2.cvtColor(I, cv2.COLOR_BGR2RGB))\n",
        "plt.subplot(1,2,2)\n",
        "plt.imshow(255-IBW, cmap=\"binary\")"
      ],
      "metadata": {
        "id": "LojfpxTUF3r6"
      },
      "execution_count": null,
      "outputs": []
    }
  ]
}