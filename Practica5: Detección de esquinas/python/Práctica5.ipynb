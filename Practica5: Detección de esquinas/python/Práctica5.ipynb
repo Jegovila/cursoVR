{
  "nbformat": 4,
  "nbformat_minor": 0,
  "metadata": {
    "colab": {
      "provenance": [],
      "authorship_tag": "ABX9TyMiUaE62pCXFvpe6fKzsSzc",
      "include_colab_link": true
    },
    "kernelspec": {
      "name": "python3",
      "display_name": "Python 3"
    },
    "language_info": {
      "name": "python"
    }
  },
  "cells": [
    {
      "cell_type": "markdown",
      "metadata": {
        "id": "view-in-github",
        "colab_type": "text"
      },
      "source": [
        "<a href=\"https://colab.research.google.com/github/Jegovila/cursoVR/blob/main/Practica5%3A%20Detecci%C3%B3n%20de%20esquinas/python/Pr%C3%A1ctica5.ipynb\" target=\"_parent\"><img src=\"https://colab.research.google.com/assets/colab-badge.svg\" alt=\"Open In Colab\"/></a>"
      ]
    },
    {
      "cell_type": "code",
      "execution_count": null,
      "metadata": {
        "id": "iUaLOcG5Jw66"
      },
      "outputs": [],
      "source": [
        "!wget -nc \"https://raw.githubusercontent.com/Jegovila/cursoVR/main/Practica5%3A%20Detecci%C3%B3n%20de%20esquinas%20/data/edificio.jpg\""
      ]
    },
    {
      "cell_type": "code",
      "source": [
        "import cv2\n",
        "import numpy as np\n",
        "import matplotlib.pyplot as plt\n",
        "from google.colab.patches import cv2_imshow"
      ],
      "metadata": {
        "id": "7_vsxwDZJ3Sm"
      },
      "execution_count": 2,
      "outputs": []
    },
    {
      "cell_type": "markdown",
      "source": [
        "Filtros"
      ],
      "metadata": {
        "id": "8UB02meBJ8h6"
      }
    },
    {
      "cell_type": "code",
      "source": [
        "# ----- BOX -----\n",
        "n = 17\n",
        "h = np.ones((n, n), np.float32)/(n*n)\n",
        "# ----Sobel------\n",
        "hx = np.matrix('-1 0 1;-2 0 2;-1 0 1')\n",
        "hy = np.matrix('-1 -2 -1;0 0 0;1 2 1')\n",
        "# ----- Gauss ----\n",
        "hg = np.matrix('1 4 6 4 1;4 16 24 16 4;6 24 36 24 6;4 16 24 16 4;1 4 6 4 1')\n",
        "hg = hg * (1/256)"
      ],
      "metadata": {
        "id": "UwjuvE9oJ9e0"
      },
      "execution_count": 3,
      "outputs": []
    },
    {
      "cell_type": "markdown",
      "source": [
        "Leer imagen"
      ],
      "metadata": {
        "id": "UXMoIfceKCCX"
      }
    },
    {
      "cell_type": "code",
      "source": [
        "I = cv2.imread(\"edificio.jpg\")\n",
        "Ig = cv2.cvtColor(I, cv2.COLOR_BGR2GRAY)\n",
        "Ig = Ig.astype(np.float64) # convertir a float, de lo contrario los calculos se redondean\n",
        "M, N = Ig.shape"
      ],
      "metadata": {
        "id": "ucLX_M9oKC3s"
      },
      "execution_count": 125,
      "outputs": []
    },
    {
      "cell_type": "markdown",
      "source": [
        "Parámetros del detector"
      ],
      "metadata": {
        "id": "PvTo8wnAKKew"
      }
    },
    {
      "cell_type": "code",
      "source": [
        "alpha = 0.0014\n",
        "th = 50\n",
        "vecindad = 50"
      ],
      "metadata": {
        "id": "y0uA1xHMKMk7"
      },
      "execution_count": 163,
      "outputs": []
    },
    {
      "cell_type": "code",
      "source": [
        "S = np.zeros((M, N), dtype=np.float64)\n",
        "\n",
        "# Suavizado\n",
        "Ig = cv2.filter2D(Ig, -1, h)\n",
        "\n",
        "# Derivadas\n",
        "Ix = cv2.filter2D(Ig, -1, hx)\n",
        "Iy = cv2.filter2D(Ig, -1, hy)\n",
        "# Ixx = cv2.filter2D(Ix, -1, hx)\n",
        "\n",
        "HE11 = np.multiply(Ix,Ix)\n",
        "HE22 = np.multiply(Iy,Iy)\n",
        "HE12 = np.multiply(Ix,Iy)\n",
        "\n",
        "A = cv2.filter2D(HE11, -1, hg)\n",
        "B = cv2.filter2D(HE22, -1, hg)\n",
        "C = cv2.filter2D(HE12, -1, hg)"
      ],
      "metadata": {
        "id": "3GNg--LCKcg1"
      },
      "execution_count": 158,
      "outputs": []
    },
    {
      "cell_type": "code",
      "source": [
        "V = (A * B) - (C**2) - alpha * ((A * B) * (A * B))\n",
        "U = V > th"
      ],
      "metadata": {
        "id": "_2LollxyKpG_"
      },
      "execution_count": 159,
      "outputs": []
    },
    {
      "cell_type": "markdown",
      "source": [
        "Supresión no máxima"
      ],
      "metadata": {
        "id": "Lr7DNynOKr4T"
      }
    },
    {
      "cell_type": "code",
      "source": [
        "for r in range(M):\n",
        "    for c in range(N):\n",
        "        if U[r, c]:\n",
        "            I1 = np.array([r - vecindad, 0])\n",
        "            I2 = np.array([r + vecindad, M])\n",
        "            I3 = np.array([c - vecindad, 0])\n",
        "            I4 = np.array([c + vecindad, N])\n",
        "\n",
        "            datxi = np.max(I1)\n",
        "            datxs = np.min(I2)\n",
        "            datyi = np.max(I3)\n",
        "            datys = np.min(I4)\n",
        "\n",
        "            MaxB = np.max(V[datxi:datxs, datyi:datys])\n",
        "\n",
        "            if V[r, c] == MaxB:\n",
        "                S[r, c] = 1"
      ],
      "metadata": {
        "id": "k-QpfpxEKtUE"
      },
      "execution_count": 160,
      "outputs": []
    },
    {
      "cell_type": "markdown",
      "source": [
        "Dibujar esquinas"
      ],
      "metadata": {
        "id": "7MUv1upoKxO9"
      }
    },
    {
      "cell_type": "code",
      "source": [
        "for r in range(M):\n",
        "    for c in range(N):\n",
        "        if S[r, c]:\n",
        "            # cv2.drawMarker(img, (x, y), color, markerType, markerSize, thickness)\n",
        "            cv2.drawMarker(I, (c, r), (0, 255, 0), cv2.MARKER_CROSS, 15, 2)"
      ],
      "metadata": {
        "id": "jlnOYJTaKyVn"
      },
      "execution_count": 161,
      "outputs": []
    },
    {
      "cell_type": "code",
      "source": [
        "cv2_imshow(I)"
      ],
      "metadata": {
        "id": "y65x_wFjK4fK"
      },
      "execution_count": null,
      "outputs": []
    }
  ]
}