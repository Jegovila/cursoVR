{
  "nbformat": 4,
  "nbformat_minor": 0,
  "metadata": {
    "colab": {
      "provenance": [],
      "authorship_tag": "ABX9TyMEkgY+jyIHbhW28za8/Qt0",
      "include_colab_link": true
    },
    "kernelspec": {
      "name": "python3",
      "display_name": "Python 3"
    },
    "language_info": {
      "name": "python"
    }
  },
  "cells": [
    {
      "cell_type": "markdown",
      "metadata": {
        "id": "view-in-github",
        "colab_type": "text"
      },
      "source": [
        "<a href=\"https://colab.research.google.com/github/Jegovila/cursoVR/blob/main/Practica13%20Structure%20From%20Motion/python/Pr%C3%A1ctica13.ipynb\" target=\"_parent\"><img src=\"https://colab.research.google.com/assets/colab-badge.svg\" alt=\"Open In Colab\"/></a>"
      ]
    },
    {
      "cell_type": "code",
      "source": [
        "!wget -nc \"https://raw.githubusercontent.com/Jegovila/cursoVR/main/Practica13%20Structure%20From%20Motion/python/Obs11.JPG\"\n",
        "!wget -nc \"https://raw.githubusercontent.com/Jegovila/cursoVR/main/Practica13%20Structure%20From%20Motion/python/Obs12.JPG\""
      ],
      "metadata": {
        "id": "6dBkm2bsdJip"
      },
      "execution_count": null,
      "outputs": []
    },
    {
      "cell_type": "code",
      "execution_count": 1,
      "metadata": {
        "id": "VDq-6UT4c8iH"
      },
      "outputs": [],
      "source": [
        "import cv2\n",
        "import numpy as np\n",
        "import matplotlib.pyplot as plt\n",
        "from mpl_toolkits.mplot3d import Axes3D"
      ]
    },
    {
      "cell_type": "code",
      "source": [
        "# Ecualización de imágenbes\n",
        "def equalize_histogram_color(img):\n",
        "    img_yuv = cv2.cvtColor(img, cv2.COLOR_BGR2YUV)\n",
        "    img_yuv[:, :, 0] = cv2.equalizeHist(img_yuv[:, :, 0])\n",
        "    img = cv2.cvtColor(img_yuv, cv2.COLOR_YUV2BGR)\n",
        "    return img"
      ],
      "metadata": {
        "id": "LsPUpkUGdzV4"
      },
      "execution_count": 4,
      "outputs": []
    },
    {
      "cell_type": "markdown",
      "source": [
        "Matriz de calibración de la cámara"
      ],
      "metadata": {
        "id": "L4UcAEaDfUn1"
      }
    },
    {
      "cell_type": "code",
      "source": [
        "K = np.array([[3422.9,      0, 3111.07],\n",
        "              [0,     3421.53, 2055.06],\n",
        "              [0,           0,       1]], dtype=np.float)"
      ],
      "metadata": {
        "id": "XNVJvIKld2br"
      },
      "execution_count": null,
      "outputs": []
    },
    {
      "cell_type": "markdown",
      "source": [
        "Obtener imágenes"
      ],
      "metadata": {
        "id": "LXwJsLBhfZdp"
      }
    },
    {
      "cell_type": "code",
      "source": [
        "img1 = cv2.imread('Obs11.JPG')\n",
        "img2 = cv2.imread('Obs12.JPG')\n",
        "\n",
        "img1 = equalize_histogram_color(img1)\n",
        "img2 = equalize_histogram_color(img2)\n",
        "\n",
        "gray1 = cv2.cvtColor(img1, cv2.COLOR_BGR2GRAY)\n",
        "gray2 = cv2.cvtColor(img2, cv2.COLOR_BGR2GRAY)\n",
        "\n",
        "fig, ax = plt.subplots(1, 2, figsize=(20,14))\n",
        "plt.subplot(1,2,1)\n",
        "plt.imshow(cv2.cvtColor(img1, cv2.COLOR_BGR2RGB))\n",
        "plt.subplot(1,2,2)\n",
        "plt.imshow(cv2.cvtColor(img2, cv2.COLOR_BGR2RGB))"
      ],
      "metadata": {
        "id": "lYm6gu4yd5ZT"
      },
      "execution_count": null,
      "outputs": []
    },
    {
      "cell_type": "markdown",
      "source": [
        "Correspondencias entre puntos"
      ],
      "metadata": {
        "id": "xgEnAKr3ffni"
      }
    },
    {
      "cell_type": "code",
      "source": [
        "# AKAZE\n",
        "detector = cv2.AKAZE_create()\n",
        "k1, d1 = detector.detectAndCompute(gray1, None)\n",
        "k2, d2 = detector.detectAndCompute(gray2, None)\n",
        "\n",
        "# Brute-force matcher\n",
        "bf = cv2.BFMatcher()\n",
        "matches = bf.knnMatch(d1, d2, k=2)\n",
        "\n",
        "# Umbral para buenos matches\n",
        "verify_ratio = 0.9\n",
        "verified_matches = []"
      ],
      "metadata": {
        "id": "xUsY7PaIeElk"
      },
      "execution_count": 32,
      "outputs": []
    },
    {
      "cell_type": "code",
      "source": [
        "for m1, m2 in matches:\n",
        "    # solo buenos matches\n",
        "    if m1.distance < verify_ratio * m2.distance:\n",
        "        verified_matches.append(m1)\n",
        "\n",
        "# minimo de matches\n",
        "min_matches = 8\n",
        "if len(verified_matches) > min_matches:\n",
        "\n",
        "    # arreglos para guardar los matches\n",
        "    img1_pts = []\n",
        "    img2_pts = []\n",
        "\n",
        "    for match in verified_matches:\n",
        "        img1_pts.append(k1[match.queryIdx].pt)\n",
        "        img2_pts.append(k2[match.trainIdx].pt)\n",
        "    pts1 = np.float32(img1_pts).reshape(-1, 1, 2)\n",
        "    pts2 = np.float32(img2_pts).reshape(-1, 1, 2)"
      ],
      "metadata": {
        "id": "PP6XaVukeIim"
      },
      "execution_count": 9,
      "outputs": []
    },
    {
      "cell_type": "markdown",
      "source": [
        "SFM"
      ],
      "metadata": {
        "id": "iRXF6GoGfxUV"
      }
    },
    {
      "cell_type": "code",
      "source": [
        "# Calcular matriz fundamental con:\n",
        "# cv2.FM_LMEDS o cv2.FM_8POINT o cv2.FM_RANSAC\n",
        "F, mask = cv2.findFundamentalMat(pts1, pts2, cv2.FM_RANSAC)\n",
        "print(\"The fundamental matrix is \\n\" + str(F))\n",
        "\n",
        "# solo inliers\n",
        "pts1 = pts1[mask.ravel() == 1]\n",
        "pts2 = pts2[mask.ravel() == 1]\n",
        "\n",
        "# Matriz esencial\n",
        "E = np.matmul(np.matmul(np.transpose(K), F), K)\n",
        "print(\"The essential matrix is \\n\" + str(E))\n",
        "\n",
        "# Parámetros extrínsecos\n",
        "_, R, t, _ = cv2.recoverPose(E, pts1, pts2, K)\n",
        "print(\"The rotation matrix is \\n\" + str(R))\n",
        "print(\"The translation is \\n\" + str(t))\n",
        "\n",
        "# Matriz de vista 1\n",
        "P1 = np.array([[1, 0, 0, 0],\n",
        "               [0, 1, 0, 0],\n",
        "               [0, 0, 1, 0]])\n",
        "P1 = np.matmul(K, P1)\n",
        "print(\"The projection matrix 1 \\n\" + str(P1))\n",
        "\n",
        "# Matriz de vista 2\n",
        "P2 = np.empty((3, 4))\n",
        "P2[:3, :3] = R\n",
        "P2[:3, 3] = t.ravel()\n",
        "P2 = np.matmul(K, P2)\n",
        "print(\"The projection matrix 2 \\n\" + str(P2))\n",
        "\n",
        "# Triangular\n",
        "points_3d = cv2.triangulatePoints(P1, P2, pts1, pts2)\n",
        "points_3d /= points_3d[3]"
      ],
      "metadata": {
        "id": "jJ10NFk8eP5E"
      },
      "execution_count": null,
      "outputs": []
    },
    {
      "cell_type": "code",
      "source": [
        "# Obtener el color de cada punto\n",
        "color = []\n",
        "for i in range(pts1.shape[0]):\n",
        "    color.append(tuple(img2[int(pts1[i][0][1]),\n",
        "                            int(pts1[i][0][0])]/255))\n",
        "\n",
        "# Dibujar puntos\n",
        "fig = plt.figure(figsize=(20,10))\n",
        "ax = fig.add_subplot(111, projection='3d')\n",
        "ax.scatter(points_3d[0], points_3d[1], points_3d[2], c=color)\n",
        "ax.axes.set_xlim3d(left=-5, right=5)\n",
        "ax.axes.set_ylim3d(bottom=-5, top=5)\n",
        "ax.axes.set_zlim3d(bottom=0, top=10)\n",
        "\n",
        "elev = 160\n",
        "azim = 90\n",
        "ax.view_init(elev, azim)"
      ],
      "metadata": {
        "id": "ZODvT48qeSUe"
      },
      "execution_count": null,
      "outputs": []
    }
  ]
}