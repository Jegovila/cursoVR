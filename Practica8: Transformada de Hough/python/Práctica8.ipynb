{
  "nbformat": 4,
  "nbformat_minor": 0,
  "metadata": {
    "colab": {
      "provenance": [],
      "authorship_tag": "ABX9TyPdbEME9zyY4kvhwyRuecYa",
      "include_colab_link": true
    },
    "kernelspec": {
      "name": "python3",
      "display_name": "Python 3"
    },
    "language_info": {
      "name": "python"
    }
  },
  "cells": [
    {
      "cell_type": "markdown",
      "metadata": {
        "id": "view-in-github",
        "colab_type": "text"
      },
      "source": [
        "<a href=\"https://colab.research.google.com/github/Jegovila/cursoVR/blob/main/Practica8%3A%20Transformada%20de%20Hough/python/Pr%C3%A1ctica8.ipynb\" target=\"_parent\"><img src=\"https://colab.research.google.com/assets/colab-badge.svg\" alt=\"Open In Colab\"/></a>"
      ]
    },
    {
      "cell_type": "code",
      "source": [
        "!wget -nc \"https://raw.githubusercontent.com/Jegovila/cursoVR/main/Practica8%3A%20Transformada%20de%20Hough/matlab/atico.jpg\""
      ],
      "metadata": {
        "id": "kxg8y3UdRyxr"
      },
      "execution_count": null,
      "outputs": []
    },
    {
      "cell_type": "code",
      "execution_count": 11,
      "metadata": {
        "id": "G_rynCVvQD8e"
      },
      "outputs": [],
      "source": [
        "from matplotlib import cm\n",
        "from skimage.transform import hough_line, hough_line_peaks\n",
        "import numpy as np\n",
        "import matplotlib.pyplot as plt\n",
        "from google.colab.patches import cv2_imshow\n",
        "import cv2"
      ]
    },
    {
      "cell_type": "markdown",
      "source": [
        "Crear imagen de muestra"
      ],
      "metadata": {
        "id": "pAG0JHTtQ10U"
      }
    },
    {
      "cell_type": "code",
      "source": [
        "image = np.zeros((100, 100))\n",
        "idx = np.arange(25, 75)\n",
        "image[idx[::-1], idx] = 255\n",
        "image[idx, idx] = 255\n",
        "\n",
        "cv2_imshow(image)"
      ],
      "metadata": {
        "id": "EB7kjfnpQ3nm"
      },
      "execution_count": null,
      "outputs": []
    },
    {
      "cell_type": "markdown",
      "source": [
        "Con otra imagen"
      ],
      "metadata": {
        "id": "rWYTz9L9R3qK"
      }
    },
    {
      "cell_type": "code",
      "source": [
        "image = cv2.imread(\"atico.jpg\", cv2.IMREAD_GRAYSCALE)\n",
        "\n",
        "fig, prev = plt.subplots(1, 2, figsize=(10,7))\n",
        "fig.tight_layout()\n",
        "plt.clf()\n",
        "\n",
        "plt.subplot(1,2,1)\n",
        "plt.imshow(image, cmap=\"gray\")\n",
        "plt.subplot(1,2,2)\n",
        "image = cv2.Canny(image, 50, 200, None, 3)\n",
        "plt.imshow(255 - image, cmap=\"binary\")"
      ],
      "metadata": {
        "id": "cbsdPtyVR_24"
      },
      "execution_count": null,
      "outputs": []
    },
    {
      "cell_type": "markdown",
      "source": [
        "Transformada de Hough"
      ],
      "metadata": {
        "id": "R0WCQNWJRYNC"
      }
    },
    {
      "cell_type": "code",
      "source": [
        "h, theta, d = hough_line(image)"
      ],
      "metadata": {
        "id": "CQ-B5LXFRaBm"
      },
      "execution_count": 93,
      "outputs": []
    },
    {
      "cell_type": "markdown",
      "source": [
        "Generar subplot"
      ],
      "metadata": {
        "id": "ByNnSJYiRbFP"
      }
    },
    {
      "cell_type": "code",
      "source": [
        "fig, (ax0, ax1, ax2) = plt.subplots(1, 3, figsize=(12, 6))\n",
        "plt.tight_layout()\n",
        "\n",
        "ax0.imshow(image, cmap=cm.gray)\n",
        "ax0.set_title('Fuente')\n",
        "\n",
        "ax1.imshow(np.log(1 + h), extent=[np.rad2deg(theta[-1]), np.rad2deg(theta[0]),d[-1], d[0]], cmap=cm.gray)\n",
        "ax1.set_title('TH')\n",
        "ax1.set_xlabel('Angulo (grados)')\n",
        "ax1.set_ylabel('Distancia (pixeles)')\n",
        "print(np.log(1 + h).shape)\n",
        "\n",
        "ax2.imshow(image, cmap=cm.gray)\n",
        "row1, col1 = image.shape\n",
        "for _, angle, dist in zip(*hough_line_peaks(h, theta, d)):\n",
        "    (x0, y0) = dist * np.array([np.cos(angle), np.sin(angle)])\n",
        "    ax2.axline((x0, y0), slope=np.tan(angle + np.pi/2), color=\"r\")\n",
        "\n",
        "ax2.axis((0, col1, row1, 0))\n",
        "ax2.set_title('Lineas detectadas')\n",
        "ax2.set_axis_off()\n",
        "\n",
        "#cv2_imshow(cv2.resize(h.astype('float32'), (300,800), interpolation = cv2.INTER_AREA))"
      ],
      "metadata": {
        "id": "ngWRs9PsRcG_"
      },
      "execution_count": null,
      "outputs": []
    }
  ]
}