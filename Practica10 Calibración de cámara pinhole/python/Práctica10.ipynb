{
  "nbformat": 4,
  "nbformat_minor": 0,
  "metadata": {
    "colab": {
      "provenance": [],
      "authorship_tag": "ABX9TyOxyOE7/eAzZPWOjNYJtAbk",
      "include_colab_link": true
    },
    "kernelspec": {
      "name": "python3",
      "display_name": "Python 3"
    },
    "language_info": {
      "name": "python"
    }
  },
  "cells": [
    {
      "cell_type": "markdown",
      "metadata": {
        "id": "view-in-github",
        "colab_type": "text"
      },
      "source": [
        "<a href=\"https://colab.research.google.com/github/Jegovila/cursoVR/blob/main/Practica10%20Calibraci%C3%B3n%20de%20c%C3%A1mara%20pinhole/python/Pr%C3%A1ctica10.ipynb\" target=\"_parent\"><img src=\"https://colab.research.google.com/assets/colab-badge.svg\" alt=\"Open In Colab\"/></a>"
      ]
    },
    {
      "cell_type": "code",
      "execution_count": null,
      "metadata": {
        "id": "ab_aNo6yo8lE"
      },
      "outputs": [],
      "source": [
        "!wget -nc \"https://github.com/Jegovila/cursoVR/raw/main/Practica10%20Calibraci%C3%B3n%20de%20c%C3%A1mara%20pinhole/data/chessboard/cal1.zip\"\n",
        "!wget -nc \"https://github.com/Jegovila/cursoVR/raw/main/Practica10%20Calibraci%C3%B3n%20de%20c%C3%A1mara%20pinhole/data/chessboard/cal2.zip\"\n",
        "!unzip -n cal1.zip\n",
        "!unzip -n cal2.zip"
      ]
    },
    {
      "cell_type": "code",
      "source": [
        "import numpy as np\n",
        "import cv2 as cv\n",
        "import glob\n",
        "import matplotlib.pyplot as plt\n",
        "import yaml\n",
        "from IPython import display\n",
        "from time import sleep"
      ],
      "metadata": {
        "id": "YDr6li7oCnOA"
      },
      "execution_count": 13,
      "outputs": []
    },
    {
      "cell_type": "code",
      "source": [
        "filas = 6\n",
        "cols = 8\n",
        "square_size_mm = 28\n",
        "\n",
        "scale_percent = .15 # reducción porcentaje\n",
        "\n",
        "criteria = (cv.TERM_CRITERIA_EPS + cv.TERM_CRITERIA_MAX_ITER, 30, 0.001)\n",
        "\n",
        "objp = np.zeros((filas*cols,3), np.float32)\n",
        "objp[:,:2] = np.mgrid[0:cols,0:filas].T.reshape(-1,2) * square_size_mm\n",
        "\n",
        "images = glob.glob('./*.jpg')"
      ],
      "metadata": {
        "id": "BUG2ITzvCsQZ"
      },
      "execution_count": 14,
      "outputs": []
    },
    {
      "cell_type": "code",
      "source": [
        "objpoints = [] # 3d point in real world space\n",
        "imgpoints = [] # 2d points in image plane.\n",
        "for fname in images:\n",
        "    img = cv.imread(fname)\n",
        "    gray = cv.cvtColor(img, cv.COLOR_BGR2GRAY)\n",
        "\n",
        "    ret, corners = cv.findChessboardCorners(gray, (cols,filas), None)\n",
        "\n",
        "    # Si encuentra el patrón\n",
        "    if ret == True:\n",
        "      plt.clf()\n",
        "      objpoints.append(objp)\n",
        "      corners2 = cv.cornerSubPix(gray,corners, (11,11), (-1,-1), criteria)\n",
        "      imgpoints.append(corners2)\n",
        "\n",
        "      # Dibuja las esquinas\n",
        "      cv.drawChessboardCorners(img, (cols,filas), corners2, ret)\n",
        "      plt.imshow(cv.cvtColor(cv.resize(img,(int(img.shape[1] * scale_percent),int(img.shape[0] * scale_percent))), cv.COLOR_BGR2RGB))\n",
        "\n",
        "      display.display(plt.gcf())\n",
        "      display.clear_output(wait=True)\n",
        "      sleep(0.5)"
      ],
      "metadata": {
        "id": "M65-tPKDCvwW"
      },
      "execution_count": null,
      "outputs": []
    },
    {
      "cell_type": "code",
      "source": [
        "ret, mtx, dist, rvecs, tvecs = cv.calibrateCamera(objpoints, imgpoints, gray.shape[::-1], None, None)\n",
        "\n",
        "img = cv.imread(images[0])\n",
        "h,  w = img.shape[:2]\n",
        "newcameramtx, roi = cv.getOptimalNewCameraMatrix(mtx, dist, (w,h), 1, (w,h)) # alpha = 1 : zona sin distorsión"
      ],
      "metadata": {
        "id": "JLPs0fz1k2vP"
      },
      "execution_count": 16,
      "outputs": []
    },
    {
      "cell_type": "markdown",
      "source": [
        "Rectificar"
      ],
      "metadata": {
        "id": "pE5yvz5Bk4ri"
      }
    },
    {
      "cell_type": "code",
      "source": [
        "dst = cv.undistort(img, mtx, dist, None, newcameramtx)"
      ],
      "metadata": {
        "id": "pIQtaGdLk5qa"
      },
      "execution_count": 17,
      "outputs": []
    },
    {
      "cell_type": "markdown",
      "source": [
        "Resultados imagen rectificada"
      ],
      "metadata": {
        "id": "lK1rP_aIk7a5"
      }
    },
    {
      "cell_type": "code",
      "source": [
        "x, y, w, h = roi\n",
        "cropped = dst[y:y+h, x:x+w]\n",
        "\n",
        "fig, ax = plt.subplots(2, 2, figsize=(20,14))\n",
        "fig.tight_layout()\n",
        "\n",
        "plt.subplot(2,1,1)\n",
        "plt.imshow(cv.cvtColor(img, cv.COLOR_BGR2RGB))\n",
        "plt.subplot(2,2,3)\n",
        "plt.imshow(cv.cvtColor(dst, cv.COLOR_BGR2RGB))\n",
        "plt.subplot(2,2,4)\n",
        "plt.imshow(cv.cvtColor(cropped, cv.COLOR_BGR2RGB))"
      ],
      "metadata": {
        "id": "YD3j4u8Vk8ID"
      },
      "execution_count": null,
      "outputs": []
    },
    {
      "cell_type": "markdown",
      "source": [
        "Resultados de calibración"
      ],
      "metadata": {
        "id": "c6mfsOwHpGvc"
      }
    },
    {
      "cell_type": "code",
      "source": [
        "print(\"K = \\n\", mtx)\n",
        "print(\"Parámetros de distorsión = \\n\", dist)\n",
        "print(\"Vectores R: \", len(rvecs))\n",
        "print(\"R: \\n\", rvecs)\n",
        "print(\"Vectores t: \", len(tvecs))\n",
        "print(\"t: \\n\", tvecs)"
      ],
      "metadata": {
        "id": "pIIMe6jupH8e"
      },
      "execution_count": null,
      "outputs": []
    },
    {
      "cell_type": "markdown",
      "source": [
        "# Graficar patrones y cámara"
      ],
      "metadata": {
        "id": "auaz0S2VqtyO"
      }
    },
    {
      "cell_type": "code",
      "source": [
        "ax = plt.figure().add_subplot(projection='3d')\n",
        "for i in range(len(tvecs)):\n",
        "    x = tvecs[i][0,0]\n",
        "    y = tvecs[i][1,0]\n",
        "    z = tvecs[i][2,0]\n",
        "    ax.scatter(x, y, z, c='r')\n",
        "\n",
        "    #plot reference frame\n",
        "    xr = [[1], [0], [0]]\n",
        "    yr = [[0], [1], [0]]\n",
        "    zr = [[0], [0], [1]]\n",
        "    R = cv.Rodrigues(rvecs[i])[0]\n",
        "\n",
        "    P0 = np.transpose(R) @ xr\n",
        "    P1 = np.transpose(R) @ yr\n",
        "    P2 = np.transpose(R) @ zr\n",
        "\n",
        "    ax.plot([x, x + float(P0[0]) * 50], [y, y + float(P0[1]) * 50], [z, z - float(P0[2]) * 50], color='r')\n",
        "    ax.plot([x, x + float(P1[0]) * 50], [y, y + float(P1[1]) * 50], [z, z - float(P1[2]) * 50], color='g')\n",
        "    ax.plot([x, x + float(P2[0]) * 50], [y, y + float(P2[1]) * 50], [z, z - float(P2[2]) * 50], color='b')\n",
        "\n",
        "    X, Y = np.meshgrid(np.arange(x, x + P0[0] * 50), np.arange(y, y + P1[1] * 25))\n",
        "    Z = -1 * (((-P2[0]*(X-x)-P2[1]*(Y-y))/P2[2])-z)\n",
        "    #plt.contour(X, Y, Z, colors='black');\n",
        "    ax.plot_surface(X, Y, Z, alpha=0.5)\n",
        "\n",
        "# Graficar cámara\n",
        "s = 20\n",
        "ax.plot([-s, -s],[-s,-s],[-s, s],color='b')\n",
        "ax.plot([s, s],[-s,-s],[-s, s],color='b')\n",
        "ax.plot([-s, -s],[s,s],[-s, s],color='b')\n",
        "ax.plot([s, s],[s,s],[-s, s],color='b')\n",
        "\n",
        "ax.plot([-s, s],[-s,-s],[-s, -s],color='b')\n",
        "ax.plot([s, s],[-s,s],[-s, -s],color='b')\n",
        "ax.plot([-s, s],[s,s],[-s, -s],color='b')\n",
        "ax.plot([-s, -s],[-s,s],[-s, -s],color='b')\n",
        "\n",
        "ax.plot([-s, s],[-s,-s],[s, s],color='b')\n",
        "ax.plot([s, s],[-s,s],[s, s],color='b')\n",
        "ax.plot([-s, s],[s,s],[s, s],color='b')\n",
        "ax.plot([-s, -s],[-s,s],[s, s],color='b')\n",
        "\n",
        "ax.plot([-s, -1.5*s],[-s,-1.5*s],[s, 1.5*s],color='b')\n",
        "ax.plot([s, 1.5*s],[-s,-1.5*s],[s, 1.5*s],color='b')\n",
        "ax.plot([s, 1.5*s],[s,1.5*s],[s, 1.5*s],color='b')\n",
        "ax.plot([-s, -1.5*s],[s,1.5*s],[s, 1.5*s],color='b')\n",
        "\n",
        "ax.plot([-1.5*s, 1.5*s],[-1.5*s,-1.5*s],[1.5*s, 1.5*s],color='b')\n",
        "ax.plot([1.5*s,1.5*s],[-1.5*s,1.5*s],[1.5*s, 1.5*s],color='b')\n",
        "ax.plot([1.5*s, -1.5*s],[1.5*s,1.5*s],[1.5*s, 1.5*s],color='b')\n",
        "ax.plot([-1.5*s,-1.5*s],[-1.5*s,1.5*s],[1.5*s, 1.5*s],color='b')\n",
        "\n",
        "ax.scatter(0, 0, 0, c='b')\n",
        "ax.set_xlabel('X')\n",
        "ax.set_ylabel('Y')\n",
        "ax.set_zlabel('Z')\n",
        "\n",
        "elev = 10\n",
        "azim = 65\n",
        "ax.view_init(elev, azim)"
      ],
      "metadata": {
        "id": "qfLZZSaCqfnn"
      },
      "execution_count": null,
      "outputs": []
    }
  ]
}