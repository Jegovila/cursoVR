{
  "nbformat": 4,
  "nbformat_minor": 0,
  "metadata": {
    "colab": {
      "provenance": [],
      "authorship_tag": "ABX9TyN44ZWaLo6GgD85/Fc7L4QD",
      "include_colab_link": true
    },
    "kernelspec": {
      "name": "python3",
      "display_name": "Python 3"
    },
    "language_info": {
      "name": "python"
    }
  },
  "cells": [
    {
      "cell_type": "markdown",
      "metadata": {
        "id": "view-in-github",
        "colab_type": "text"
      },
      "source": [
        "<a href=\"https://colab.research.google.com/github/Jegovila/cursoVR/blob/main/Practica2%3A%20Histogramas/python/Pr%C3%A1ctica2.ipynb\" target=\"_parent\"><img src=\"https://colab.research.google.com/assets/colab-badge.svg\" alt=\"Open In Colab\"/></a>"
      ]
    },
    {
      "cell_type": "code",
      "execution_count": null,
      "metadata": {
        "id": "7EDniTQZZNhK"
      },
      "outputs": [],
      "source": [
        "!wget -nc \"https://raw.githubusercontent.com/Jegovila/cursoVR/main/Practica2%3A%20Histogramas/data/im1.jpg\"\n",
        "!wget -nc \"https://raw.githubusercontent.com/Jegovila/cursoVR/main/Practica2%3A%20Histogramas/data/im2.jpg\"\n",
        "!wget -nc \"https://raw.githubusercontent.com/Jegovila/cursoVR/main/Practica1%3A%20Fundamentos%20del%20PDI/data/lena.bmp\""
      ]
    },
    {
      "cell_type": "code",
      "source": [
        "import cv2\n",
        "import numpy as np\n",
        "from google.colab.patches import cv2_imshow\n",
        "from matplotlib import pyplot as plt"
      ],
      "metadata": {
        "id": "3asvJ3zjZqEG"
      },
      "execution_count": 2,
      "outputs": []
    },
    {
      "cell_type": "markdown",
      "source": [
        "# Imagen inversa"
      ],
      "metadata": {
        "id": "aJoQXnlTdcQS"
      }
    },
    {
      "cell_type": "code",
      "source": [
        "src = cv2.imread(\"lena.bmp\")\n",
        "src = cv2.cvtColor(src, cv2.COLOR_BGR2RGB)\n",
        "\n",
        "negativo = 255 - src\n",
        "\n",
        "fig, ax = plt.subplots(1, 2, figsize=(20,14))\n",
        "fig.tight_layout()\n",
        "\n",
        "plt.subplot(1,2,1)\n",
        "plt.imshow(src)\n",
        "plt.subplot(1,2,2)\n",
        "plt.imshow(negativo)"
      ],
      "metadata": {
        "id": "7uEBVpQXdfdn"
      },
      "execution_count": null,
      "outputs": []
    },
    {
      "cell_type": "markdown",
      "source": [
        "# Desplegar histogramas"
      ],
      "metadata": {
        "id": "wazUJ0LQaexB"
      }
    },
    {
      "cell_type": "code",
      "source": [
        "src = cv2.imread(\"lena.bmp\")\n",
        "cv2_imshow(src)\n",
        "color = ('b', 'g', 'r')\n",
        "for i, col in enumerate(color):\n",
        "    histr = cv2.calcHist([src], [i], None, [256], [0, 256])\n",
        "    plt.plot(histr, color=col)\n",
        "    plt.xlim([0, 256])\n",
        "plt.draw()\n",
        "plt.pause(0.01)"
      ],
      "metadata": {
        "id": "knGd9HUOagY7"
      },
      "execution_count": null,
      "outputs": []
    },
    {
      "cell_type": "markdown",
      "source": [
        "# Modificar contraste y brillo"
      ],
      "metadata": {
        "id": "kTd-ZROcaQdC"
      }
    },
    {
      "cell_type": "code",
      "source": [
        "src = cv2.imread(\"lena.bmp\")\n",
        "gray = cv2.cvtColor(src, cv2.COLOR_BGR2GRAY)\n",
        "graymod = gray * 0.3 + 80\n",
        "graymod = graymod.astype('uint8')"
      ],
      "metadata": {
        "id": "zs7YZza3aSwd"
      },
      "execution_count": 7,
      "outputs": []
    },
    {
      "cell_type": "markdown",
      "source": [
        "Desplegar resultados"
      ],
      "metadata": {
        "id": "dYbiskmpgvpv"
      }
    },
    {
      "cell_type": "code",
      "source": [
        "fig, ax = plt.subplots(2, 2, figsize=(20,14))\n",
        "fig.tight_layout()\n",
        "\n",
        "plt.subplot(2,2,1)\n",
        "plt.imshow(gray, cmap='gray')\n",
        "plt.title('Original')\n",
        "plt.subplot(2,2,2)\n",
        "plt.plot(cv2.calcHist([gray], [0], None, [256], [0, 256]))\n",
        "plt.title('histograma original')\n",
        "plt.subplot(2,2,3)\n",
        "# aqui establecemos los valores min y max como 0 y 255\n",
        "# de lo contrario, plt.imshow mapeará el minimo a 0 y el\n",
        "# máximo a 255 y no veríamos la diferencia en el contraste\n",
        "plt.imshow(graymod, cmap=\"gray\", vmin=0, vmax=255)\n",
        "plt.title('Modificada')\n",
        "plt.subplot(2,2,4)\n",
        "plt.plot(cv2.calcHist([graymod], [0], None, [256], [0, 256]))\n",
        "plt.title('histograma modificado')"
      ],
      "metadata": {
        "id": "2kuQSIyTgxjL"
      },
      "execution_count": null,
      "outputs": []
    },
    {
      "cell_type": "markdown",
      "source": [
        "# Adaptación automática del contraste"
      ],
      "metadata": {
        "id": "s0jWU7uagVsM"
      }
    },
    {
      "cell_type": "code",
      "source": [
        "src = cv2.imread(\"lena.bmp\")\n",
        "gray = cv2.cvtColor(src, cv2.COLOR_BGR2GRAY)\n",
        "graymod = gray * 0.3 + 80\n",
        "graymod = graymod.astype('uint8')\n",
        "\n",
        "bajo = graymod.min()\n",
        "alto = graymod.max()\n",
        "grayad = np.zeros((gray.shape[0], gray.shape[1], 1), np.uint8)\n",
        "for i in range(gray.shape[0]):\n",
        "    for j in range(gray.shape[1]):\n",
        "        grayad[i][j] = ((graymod[i][j] - bajo) / (alto - bajo) ) * 255\n",
        "grayad = grayad.astype('uint8')"
      ],
      "metadata": {
        "id": "AerwFFO3gY-4"
      },
      "execution_count": 9,
      "outputs": []
    },
    {
      "cell_type": "markdown",
      "source": [
        "Desplegar resultados"
      ],
      "metadata": {
        "id": "GDBVfYhXg1so"
      }
    },
    {
      "cell_type": "code",
      "source": [
        "fig, ax = plt.subplots(2, 2, figsize=(20,14))\n",
        "fig.tight_layout()\n",
        "\n",
        "plt.subplot(2,2,1)\n",
        "plt.imshow(graymod, cmap=\"gray\", vmin=0, vmax=255)\n",
        "plt.title('Original')\n",
        "plt.subplot(2,2,2)\n",
        "plt.plot(cv2.calcHist([graymod], [0], None, [256], [0, 256]))\n",
        "plt.title('histograma original')\n",
        "plt.subplot(2,2,3)\n",
        "plt.imshow(grayad, cmap=\"gray\", vmin=0, vmax=255)\n",
        "plt.title('Modificada')\n",
        "plt.subplot(2,2,4)\n",
        "plt.plot(cv2.calcHist([grayad], [0], None, [256], [0, 256]))\n",
        "plt.title('histograma modificado')"
      ],
      "metadata": {
        "id": "k6v83WRSg3Au"
      },
      "execution_count": null,
      "outputs": []
    },
    {
      "cell_type": "code",
      "source": [
        "print(\"Imagen original ->  vmin: \", np.min(graymod), \" vmax: \", np.max(graymod))\n",
        "print(\"Imagen adaptada ->  vmin: \", np.min(grayad), \" vmax: \", np.max(grayad))"
      ],
      "metadata": {
        "id": "t4xMLaD3hLcG"
      },
      "execution_count": null,
      "outputs": []
    },
    {
      "cell_type": "markdown",
      "source": [
        "# Ecualización lineal"
      ],
      "metadata": {
        "id": "h20jmNV-hgfv"
      }
    },
    {
      "cell_type": "markdown",
      "source": [
        "## Función para generar histograma acumulado"
      ],
      "metadata": {
        "id": "dDX3zaz-aFcf"
      }
    },
    {
      "cell_type": "code",
      "source": [
        "def acumulado(img):\n",
        "    gray_hist = cv2.calcHist([img], [0], None, [256], [0, 256])\n",
        "    # Acumulado:\n",
        "    acc = 0\n",
        "    H = np.zeros(256)\n",
        "    for i in range(256):\n",
        "        H[i] = gray_hist[i] + acc\n",
        "        acc = H[i]\n",
        "    return H"
      ],
      "metadata": {
        "id": "-kA3gaN1aIZK"
      },
      "execution_count": 12,
      "outputs": []
    },
    {
      "cell_type": "markdown",
      "source": [
        "## Ecualización lineal"
      ],
      "metadata": {
        "id": "gFVZq4g8vWDk"
      }
    },
    {
      "cell_type": "code",
      "source": [
        "gray = cv2.cvtColor(src, cv2.COLOR_BGR2GRAY)\n",
        "H = acumulado(gray)\n",
        "\n",
        "# Ecualización\n",
        "Ieq = np.zeros((gray.shape[0], gray.shape[1], 1), np.uint8)\n",
        "for i in range(gray.shape[0]):\n",
        "    for j in range(gray.shape[1]):\n",
        "        v = gray[i][j]\n",
        "        Ieq[i][j] = H[gray[i][j]] * (255/(gray.shape[0]*gray.shape[1]))\n",
        "\n",
        "# Acumulado eq:\n",
        "Heq = acumulado(Ieq)"
      ],
      "metadata": {
        "id": "YFO4PpdvhiU8"
      },
      "execution_count": 13,
      "outputs": []
    },
    {
      "cell_type": "markdown",
      "source": [
        "Desplegar resultados"
      ],
      "metadata": {
        "id": "PDZ6rYrkuuBc"
      }
    },
    {
      "cell_type": "code",
      "source": [
        "fig, ax = plt.subplots(2, 2, figsize=(20,14))\n",
        "fig.tight_layout()\n",
        "\n",
        "plt.subplot(2,2,1)\n",
        "plt.imshow(gray, cmap=\"gray\", vmin=0, vmax=255)\n",
        "plt.title('Original')\n",
        "plt.subplot(2,2,2)\n",
        "plt.plot(H)\n",
        "plt.title('histograma original')\n",
        "plt.subplot(2,2,3)\n",
        "plt.imshow(Ieq, cmap=\"gray\", vmin=0, vmax=255)\n",
        "plt.title('Modificada')\n",
        "plt.subplot(2,2,4)\n",
        "plt.plot(Heq)\n",
        "plt.title('histograma modificado')"
      ],
      "metadata": {
        "id": "1J5wNqNNutjI"
      },
      "execution_count": null,
      "outputs": []
    },
    {
      "cell_type": "markdown",
      "source": [
        "# Ecualización por especificación"
      ],
      "metadata": {
        "id": "aSEPJCMAvgm8"
      }
    },
    {
      "cell_type": "markdown",
      "source": [
        "## Histograma acumulado"
      ],
      "metadata": {
        "id": "lqsysE_AvqZT"
      }
    },
    {
      "cell_type": "code",
      "source": [
        "def acumulado(img):\n",
        "    H = np.zeros([256, 3])\n",
        "    for i, col in enumerate(color):\n",
        "        hist = cv2.calcHist([img], [i], None, [256], [0, 256])\n",
        "        # Acumulado:\n",
        "        acc = 0\n",
        "        for j in range(256):\n",
        "            H[j][i] = hist[j] + acc\n",
        "            acc = H[j][i]\n",
        "        #Normalizado\n",
        "        H[:,i] = H[:,i] / (img.shape[0] * img.shape[1])\n",
        "        # plt.figure(figure)\n",
        "        # plt.plot(H[:,i],color=col)\n",
        "        # plt.draw()\n",
        "        # plt.pause(.001)\n",
        "    return H"
      ],
      "metadata": {
        "id": "va-d0FIAvjNm"
      },
      "execution_count": 18,
      "outputs": []
    },
    {
      "cell_type": "markdown",
      "source": [
        "## Ecualización por especificación"
      ],
      "metadata": {
        "id": "KNvslmJBvz_g"
      }
    },
    {
      "cell_type": "code",
      "source": [
        "I1 = cv2.imread('im1.jpg')\n",
        "I2 = cv2.imread('im2.jpg')\n",
        "\n",
        "I1 = cv2.cvtColor(I1, cv2.COLOR_BGR2RGB)\n",
        "I2 = cv2.cvtColor(I2, cv2.COLOR_BGR2RGB)\n",
        "\n",
        "H1 = acumulado(I1)\n",
        "H2 = acumulado(I2)\n",
        "\n",
        "[m, n, p] = I1.shape\n",
        "I3 = np.zeros([m, n, p])\n",
        "\n",
        "#--------Ecualización por especificación----------\n",
        "for k in range(p):\n",
        "    for i in range(m):\n",
        "        for j in range(n):\n",
        "            z = 0\n",
        "            Sk = H1[I1[i, j, k], k]\n",
        "            while H2[z, k] - Sk < 0:\n",
        "                z += 1\n",
        "                if z == 256:\n",
        "                    H2[z, k] = Sk\n",
        "            I3[i, j, k] = z\n",
        "\n",
        "I3 = I3.astype('uint8')\n",
        "H3 = acumulado(I3)"
      ],
      "metadata": {
        "id": "ogqcAhhjv2aA"
      },
      "execution_count": 27,
      "outputs": []
    },
    {
      "cell_type": "markdown",
      "source": [
        "Desplegar resultados"
      ],
      "metadata": {
        "id": "VPR0zTJ3xzB6"
      }
    },
    {
      "cell_type": "code",
      "source": [
        "color = ('r', 'g', 'b')\n",
        "fig, ax = plt.subplots(2, 3, figsize=(20,14))\n",
        "fig.tight_layout()\n",
        "\n",
        "plt.subplot(2,3,1)\n",
        "plt.imshow(I1)\n",
        "plt.title('src')\n",
        "plt.subplot(2,3,2)\n",
        "plt.imshow(I2)\n",
        "plt.title('dst')\n",
        "plt.subplot(2,3,3)\n",
        "plt.imshow(I3)\n",
        "plt.title('out')\n",
        "plt.subplot(2,3,4)\n",
        "for i, col in enumerate(color):\n",
        "  plt.plot(H1[:,i],color=col)\n",
        "plt.subplot(2,3,5)\n",
        "for i, col in enumerate(color):\n",
        "  plt.plot(H2[:,i],color=col)\n",
        "plt.subplot(2,3,6)\n",
        "for i, col in enumerate(color):\n",
        "  plt.plot(H3[:,i],color=col)"
      ],
      "metadata": {
        "id": "GJAjYLppxmx5"
      },
      "execution_count": null,
      "outputs": []
    },
    {
      "cell_type": "markdown",
      "source": [
        "# Alpha Blending"
      ],
      "metadata": {
        "id": "RwnbWvRCzh1M"
      }
    },
    {
      "cell_type": "code",
      "source": [
        "I1 = cv2.imread('im1.jpg')\n",
        "I2 = cv2.imread('im2.jpg')\n",
        "I2 = cv2.resize(I2, (I1.shape[1], I1.shape[0]))\n",
        "\n",
        "I1 = cv2.cvtColor(I1, cv2.COLOR_BGR2GRAY)\n",
        "I2 = cv2.cvtColor(I2, cv2.COLOR_BGR2GRAY)\n",
        "\n",
        "alpha_value = 0.5\n",
        "\n",
        "I3 = cv2.addWeighted(I1, alpha_value, I2, 1-alpha_value, 0)"
      ],
      "metadata": {
        "id": "X3Thuanfzj_I"
      },
      "execution_count": 37,
      "outputs": []
    },
    {
      "cell_type": "markdown",
      "source": [
        "Desplegar resultados"
      ],
      "metadata": {
        "id": "Q1j4SRGa0GKA"
      }
    },
    {
      "cell_type": "code",
      "source": [
        "fig, ax = plt.subplots(1, 3, figsize=(20,14))\n",
        "fig.tight_layout()\n",
        "\n",
        "plt.subplot(1,3,1)\n",
        "plt.imshow(I1, cmap=\"gray\")\n",
        "plt.subplot(1,3,2)\n",
        "plt.imshow(I2, cmap=\"gray\")\n",
        "plt.subplot(1,3,3)\n",
        "plt.imshow(I3, cmap=\"gray\")"
      ],
      "metadata": {
        "id": "CNSuRHen0HN2"
      },
      "execution_count": null,
      "outputs": []
    }
  ]
}