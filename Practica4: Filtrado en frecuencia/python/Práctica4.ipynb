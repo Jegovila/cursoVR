{
  "nbformat": 4,
  "nbformat_minor": 0,
  "metadata": {
    "colab": {
      "provenance": [],
      "include_colab_link": true
    },
    "kernelspec": {
      "name": "python3",
      "display_name": "Python 3"
    },
    "language_info": {
      "name": "python"
    }
  },
  "cells": [
    {
      "cell_type": "markdown",
      "metadata": {
        "id": "view-in-github",
        "colab_type": "text"
      },
      "source": [
        "<a href=\"https://colab.research.google.com/github/Jegovila/cursoVR/blob/main/Practica4%3A%20Filtrado%20en%20frecuencia/python/Pr%C3%A1ctica4.ipynb\" target=\"_parent\"><img src=\"https://colab.research.google.com/assets/colab-badge.svg\" alt=\"Open In Colab\"/></a>"
      ]
    },
    {
      "cell_type": "code",
      "execution_count": null,
      "metadata": {
        "id": "ikgFcfYL88gF"
      },
      "outputs": [],
      "source": [
        "!wget -nc \"https://raw.githubusercontent.com/Jegovila/cursoVR/main/Practica4%3A%20Filtrado%20en%20frecuencia/data/atico.jpg\"\n",
        "!wget -nc \"https://raw.githubusercontent.com/Jegovila/cursoVR/main/Practica4%3A%20Filtrado%20en%20frecuencia/data/bars.jpg\"\n",
        "!wget -nc \"https://raw.githubusercontent.com/Jegovila/cursoVR/main/Practica4%3A%20Filtrado%20en%20frecuencia/data/rocas.jpg\"\n",
        "!wget -nc \"https://raw.githubusercontent.com/Jegovila/cursoVR/main/Practica4%3A%20Filtrado%20en%20frecuencia/data/lena.png\""
      ]
    },
    {
      "cell_type": "code",
      "source": [
        "import cv2\n",
        "import numpy as np\n",
        "import matplotlib.pyplot as plt\n",
        "from google.colab.patches import cv2_imshow"
      ],
      "metadata": {
        "id": "6D43qBBh9Neg"
      },
      "execution_count": 2,
      "outputs": []
    },
    {
      "cell_type": "markdown",
      "source": [
        " # Parte 1"
      ],
      "metadata": {
        "id": "v0agJGvYN_z_"
      }
    },
    {
      "cell_type": "code",
      "source": [
        "I = cv2.imread('lena.png', cv2.IMREAD_GRAYSCALE)\n",
        "F = np.fft.fft2(I)\n",
        "IShift = np.fft.fftshift(I)\n",
        "Fshift = np.fft.fftshift(F)"
      ],
      "metadata": {
        "id": "O6QGNyQ29Pa9"
      },
      "execution_count": null,
      "outputs": []
    },
    {
      "cell_type": "markdown",
      "source": [
        "La siguiente línea dará un error"
      ],
      "metadata": {
        "id": "W_C5whgwBnyC"
      }
    },
    {
      "cell_type": "code",
      "source": [
        "plt.imshow(F, cmap=\"gray\")"
      ],
      "metadata": {
        "id": "MIQtE8_T-XVf"
      },
      "execution_count": null,
      "outputs": []
    },
    {
      "cell_type": "markdown",
      "source": [
        "Debido al tipo de dato que queremos desplegar"
      ],
      "metadata": {
        "id": "WlawpdPeBqVK"
      }
    },
    {
      "cell_type": "code",
      "source": [
        "print(F)"
      ],
      "metadata": {
        "id": "0MAaiXVtBbT3"
      },
      "execution_count": null,
      "outputs": []
    },
    {
      "cell_type": "code",
      "source": [
        "plt.imshow(np.abs(F), cmap=\"gray\")"
      ],
      "metadata": {
        "id": "imkefudkBf3b"
      },
      "execution_count": null,
      "outputs": []
    },
    {
      "cell_type": "markdown",
      "source": [
        "La línea anterior sigue sin mostrar los resultados correctamente debido a la escala a la que se encuentran los datos"
      ],
      "metadata": {
        "id": "VHgXz4GGByAM"
      }
    },
    {
      "cell_type": "code",
      "source": [
        "plt.imshow(np.log1p(np.abs(F)), cmap='gray')"
      ],
      "metadata": {
        "id": "tNNaOgEbB3GN"
      },
      "execution_count": null,
      "outputs": []
    },
    {
      "cell_type": "markdown",
      "source": [
        "Mostrar resultados"
      ],
      "metadata": {
        "id": "ogyAz8Do-VzK"
      }
    },
    {
      "cell_type": "code",
      "source": [
        "#fig, ax = plt.subplots(2,2, figsize=(20,10))\n",
        "fig.tight_layout()\n",
        "plt.clf()\n",
        "\n",
        "plt.subplot(2,2,1)\n",
        "plt.imshow(I, cmap=\"gray\")\n",
        "plt.title(\"Original\")\n",
        "plt.subplot(2,2,2)\n",
        "plt.imshow(np.log1p(np.abs(F)), cmap='gray')\n",
        "plt.title(\"Frecuencia\")\n",
        "plt.subplot(2,2,3)\n",
        "plt.imshow(IShift, cmap=\"gray\")\n",
        "plt.subplot(2,2,4)\n",
        "plt.imshow(np.log1p(np.abs(Fshift)), cmap='gray')\n",
        "plt.title(\"FFT-Shift\")"
      ],
      "metadata": {
        "id": "Ipr0M6i7-UPN"
      },
      "execution_count": null,
      "outputs": []
    },
    {
      "cell_type": "markdown",
      "source": [
        "## Filtrado"
      ],
      "metadata": {
        "id": "BJ-Q3AT7B_et"
      }
    },
    {
      "cell_type": "markdown",
      "source": [
        "## Filtros Ideales"
      ],
      "metadata": {
        "id": "xk9AxXUZD0WH"
      }
    },
    {
      "cell_type": "markdown",
      "source": [
        "Filtro"
      ],
      "metadata": {
        "id": "riMOE4d-ClIX"
      }
    },
    {
      "cell_type": "code",
      "source": [
        "def filtro(D0, filter):\n",
        "  M, N = F.shape\n",
        "  H = np.zeros((M, N), dtype=np.float32)\n",
        "  for u in range(M):\n",
        "      for v in range(N):\n",
        "          D = np.sqrt((u - M/2)**2 + (v - N/2)**2)\n",
        "          if filter == \"lpf\":\n",
        "          # ----Pasa bajas ideal-----\n",
        "            if D <= D0:\n",
        "                H[u, v] = 1\n",
        "            else:\n",
        "                H[u, v] = 0\n",
        "          # ----Pasa altas ideal----\n",
        "          elif filter == \"hpf\":\n",
        "            if D <= D0:\n",
        "                H[u, v] = 0\n",
        "            else:\n",
        "                H[u, v] = 1\n",
        "          else:\n",
        "            print(\"Error en selección del filtro\")\n",
        "  return H"
      ],
      "metadata": {
        "id": "hmQxGLZujtJf"
      },
      "execution_count": null,
      "outputs": []
    },
    {
      "cell_type": "code",
      "source": [
        "H = filtro(30, \"lpf\")\n",
        "plt.imshow(H, cmap=\"binary\")\n",
        "plt.axis(\"off\")"
      ],
      "metadata": {
        "id": "8A1im5tAmKIT"
      },
      "execution_count": null,
      "outputs": []
    },
    {
      "cell_type": "markdown",
      "source": [
        "Filtrado"
      ],
      "metadata": {
        "id": "ecKGg1CxCpo7"
      }
    },
    {
      "cell_type": "code",
      "source": [
        "Gshift = Fshift * H #Filtradoq\n",
        "G = np.fft.fftshift(Gshift)\n",
        "g = np.abs(np.fft.ifft2(G))\n",
        "\n",
        "fig, ax = plt.subplots(1, 3, figsize=(20,10))\n",
        "fig.tight_layout()\n",
        "plt.clf()\n",
        "\n",
        "plt.subplot(1,3,1)\n",
        "plt.imshow(np.log1p(np.abs(Gshift)), cmap='gray')\n",
        "plt.title(\"G shift\")\n",
        "plt.subplot(1,3,2)\n",
        "plt.imshow(np.log1p(np.abs(G)), cmap='gray')\n",
        "plt.title(\"G\")\n",
        "plt.subplot(1,3,3)\n",
        "plt.imshow(g, cmap='gray')\n",
        "plt.title(\"g\")"
      ],
      "metadata": {
        "id": "YOd-GNLqCqiF"
      },
      "execution_count": null,
      "outputs": []
    },
    {
      "cell_type": "markdown",
      "source": [
        "Comparativa con diferentes $D0$"
      ],
      "metadata": {
        "id": "QQ7tqk9YmZk1"
      }
    },
    {
      "cell_type": "code",
      "source": [
        "filter = \"lpf\"\n",
        "\n",
        "fa, fb, fc = 10, 70, 280\n",
        "\n",
        "\n",
        "GA = np.fft.fftshift(Fshift * filtro(fa, filter))\n",
        "GB = np.fft.fftshift(Fshift * filtro(fb, filter))\n",
        "GC = np.fft.fftshift(Fshift * filtro(fc, filter))\n",
        "\n",
        "fig = plt.subplots(2, 3, figsize=(20,10))\n",
        "plt.subplot(2,3,1)\n",
        "plt.imshow(filtro(fa, filter), cmap='binary')\n",
        "plt.subplot(2,3,2)\n",
        "plt.imshow(filtro(fb, filter), cmap='binary')\n",
        "plt.subplot(2,3,3)\n",
        "plt.imshow(filtro(fc, filter), cmap='binary')\n",
        "plt.subplot(2,3,4)\n",
        "plt.imshow(np.abs(np.fft.ifft2(GA)), cmap='gray')\n",
        "plt.subplot(2,3,5)\n",
        "plt.imshow(np.abs(np.fft.ifft2(GB)), cmap='gray')\n",
        "plt.subplot(2,3,6)\n",
        "plt.imshow(np.abs(np.fft.ifft2(GC)), cmap='gray')"
      ],
      "metadata": {
        "id": "1n_e4F-XmdfI"
      },
      "execution_count": null,
      "outputs": []
    },
    {
      "cell_type": "markdown",
      "source": [
        "## Filtro box"
      ],
      "metadata": {
        "id": "ykAoTqBGD2VF"
      }
    },
    {
      "cell_type": "markdown",
      "source": [
        "Leer imagen"
      ],
      "metadata": {
        "id": "qSSxEpA1ERnD"
      }
    },
    {
      "cell_type": "code",
      "source": [
        "I = cv2.imread('lena.png', cv2.IMREAD_GRAYSCALE)\n",
        "F = np.fft.fft2(I)\n",
        "Fshift = np.fft.fftshift(F)\n",
        "\n",
        "fig, ax = plt.subplots(1, 2, figsize=(20,10))\n",
        "fig.tight_layout()\n",
        "plt.clf()\n",
        "\n",
        "plt.subplot(1,2,1)\n",
        "plt.imshow(I, cmap=\"gray\")\n",
        "plt.title(\"Original\")\n",
        "plt.subplot(1,2,2)\n",
        "plt.imshow(np.log1p(np.abs(F)), cmap='gray')\n",
        "plt.title(\"Frecuencia\")"
      ],
      "metadata": {
        "id": "9fw43sw6D4ds"
      },
      "execution_count": null,
      "outputs": []
    },
    {
      "cell_type": "markdown",
      "source": [
        "Filtro box"
      ],
      "metadata": {
        "id": "BE9FGNr0E18W"
      }
    },
    {
      "cell_type": "code",
      "source": [
        "M, N = F.shape\n",
        "H = np.zeros((M, N), dtype=np.float32)\n",
        "n = 11\n",
        "H[0:n, 0:n] = 1/(n*n)\n",
        "\n",
        "fig, ax = plt.subplots(1, 2, figsize=(20,10))\n",
        "fig.tight_layout()\n",
        "plt.clf()\n",
        "\n",
        "plt.subplot(1,2,1)\n",
        "plt.imshow(np.real(H), cmap='gray')\n",
        "plt.title(\"h\")\n",
        "plt.subplot(1,2,2)\n",
        "\n",
        "H = np.fft.fft2(H)\n",
        "plt.imshow(np.abs(np.fft.fftshift(H)), cmap='gray')\n",
        "plt.title(\"H\")"
      ],
      "metadata": {
        "id": "Oz8JNwHDE27-"
      },
      "execution_count": null,
      "outputs": []
    },
    {
      "cell_type": "markdown",
      "source": [
        "Filtrado"
      ],
      "metadata": {
        "id": "TduMAT3uFnVx"
      }
    },
    {
      "cell_type": "code",
      "source": [
        "G = F * H\n",
        "%timeit G = F * H"
      ],
      "metadata": {
        "id": "9pCvilPoFoOC"
      },
      "execution_count": null,
      "outputs": []
    },
    {
      "cell_type": "code",
      "source": [
        "n = 11\n",
        "h = np.ones((n,n)) / (n*n)\n",
        "%timeit G2 = cv2.filter2D(I, -1, h)"
      ],
      "metadata": {
        "id": "SnEBn1xfQCMR"
      },
      "execution_count": null,
      "outputs": []
    },
    {
      "cell_type": "code",
      "source": [
        "fig, ax = plt.subplots(1, 2, figsize=(20,10))\n",
        "fig.tight_layout()\n",
        "plt.clf()\n",
        "\n",
        "plt.subplot(1,2,1)\n",
        "plt.imshow(np.log1p(np.abs(np.fft.fftshift(G))), cmap='gray')\n",
        "plt.title(\"G\")\n",
        "\n",
        "plt.subplot(1,2,2)\n",
        "g = np.abs(np.fft.ifft2(G))\n",
        "plt.imshow(g, cmap='gray')\n",
        "plt.title(\"g\")"
      ],
      "metadata": {
        "id": "JKO6YZErFrT2"
      },
      "execution_count": null,
      "outputs": []
    },
    {
      "cell_type": "markdown",
      "source": [
        "# Parte 2: Importancia de la fase"
      ],
      "metadata": {
        "id": "fCvpXYRdWTh0"
      }
    },
    {
      "cell_type": "code",
      "source": [
        "I2 = cv2.resize(cv2.imread('lena.png', cv2.IMREAD_GRAYSCALE), (300,300))\n",
        "I1 = cv2.resize(cv2.imread('atico.jpg', cv2.IMREAD_GRAYSCALE), (300,300))\n",
        "\n",
        "plt.subplot(121)\n",
        "plt.imshow(I1, cmap='gray')\n",
        "plt.subplot(122)\n",
        "plt.imshow(I2, cmap='gray')\n",
        "plt.show()"
      ],
      "metadata": {
        "id": "AsU8J16tXOb_"
      },
      "execution_count": null,
      "outputs": []
    },
    {
      "cell_type": "code",
      "source": [
        "I1_fft = np.fft.fftshift(np.fft.fft2(I1))\n",
        "I2_fft = np.fft.fftshift(np.fft.fft2(I2))\n",
        "\n",
        "I1_amplitude = np.sqrt(np.real(I1_fft) ** 2 + np.imag(I1_fft) ** 2)\n",
        "I1_phase = np.arctan2(np.imag(I1_fft), np.real(I1_fft))\n",
        "I2_amplitude = np.sqrt(np.real(I2_fft) ** 2 + np.imag(I2_fft) ** 2)\n",
        "I2_phase = np.arctan2(np.imag(I2_fft), np.real(I2_fft))"
      ],
      "metadata": {
        "id": "MJpcYhgGWVsg"
      },
      "execution_count": 42,
      "outputs": []
    },
    {
      "cell_type": "markdown",
      "source": [
        "Mostrar únicamente la amplitud (hacer que la fase sea cero)."
      ],
      "metadata": {
        "id": "snWhBkJ-5UA-"
      }
    },
    {
      "cell_type": "code",
      "source": [
        "plt.subplot(221)\n",
        "plt.imshow(I1, cmap='gray')\n",
        "\n",
        "plt.subplot(222)\n",
        "I1A = np.real(np.fft.ifft2(I1_amplitude))\n",
        "# Mapear de 0 a 255\n",
        "I1A[I1A > 255] = 255\n",
        "I1A[I1A < 0] = 0\n",
        "plt.imshow(I1A, cmap=\"gray\")\n",
        "\n",
        "plt.subplot(223)\n",
        "plt.imshow(I2, cmap='gray')\n",
        "\n",
        "plt.subplot(224)\n",
        "I2A = np.real(np.fft.ifft2(I2_amplitude))\n",
        "# Mapear de 0 a 255\n",
        "I2A[I2A > 255] = 255\n",
        "I2A[I2A < 0] = 0\n",
        "plt.imshow(I2A, cmap=\"gray\")\n"
      ],
      "metadata": {
        "id": "PZZ7Jz3o5Xkl"
      },
      "execution_count": null,
      "outputs": []
    },
    {
      "cell_type": "markdown",
      "source": [
        "No podríamos hacer lo mismo con la fase, pues si hacemos 0 la amplitud se perdería la imagen por completo"
      ],
      "metadata": {
        "id": "OHvkTbGz6XN4"
      }
    },
    {
      "cell_type": "code",
      "source": [
        "plt.subplot(221)\n",
        "plt.imshow(I1, cmap='gray')\n",
        "\n",
        "plt.subplot(222)\n",
        "I1P = np.real((np.fft.ifft2(I1_phase)))\n",
        "plt.imshow(I1P.astype('uint8'), cmap=\"gray\")\n",
        "\n",
        "plt.subplot(223)\n",
        "plt.imshow(I2, cmap='gray')\n",
        "\n",
        "plt.subplot(224)\n",
        "I2P = np.real((np.fft.ifft2(I2_phase)))\n",
        "plt.imshow(I2P.astype('uint8'), cmap=\"gray\")"
      ],
      "metadata": {
        "id": "YtMipjBH66Yd"
      },
      "execution_count": null,
      "outputs": []
    },
    {
      "cell_type": "markdown",
      "source": [
        "Como no podemos hacer la magnitud igual a cero, lo que haremos ahora será mezclar la amplitud de una con la fase de la otra."
      ],
      "metadata": {
        "id": "pgFhOPDY9Vec"
      }
    },
    {
      "cell_type": "code",
      "source": [
        "I1_I2_comb = np.multiply(I1_amplitude, np.exp(1j * I2_phase))\n",
        "I1_I2 = np.real(np.fft.ifft2(I1_I2_comb))"
      ],
      "metadata": {
        "id": "k9lysNFIX5AE"
      },
      "execution_count": 43,
      "outputs": []
    },
    {
      "cell_type": "markdown",
      "source": [
        "Mostrar resultados y hacer un mapeo para valores negativos a cero y 255 como máximo"
      ],
      "metadata": {
        "id": "AZ1hKpw_Y6bY"
      }
    },
    {
      "cell_type": "code",
      "source": [
        "plt.figure(figsize=(15, 20))\n",
        "plt.subplot(131)\n",
        "plt.imshow(np.abs(I1_I2), cmap='gray')\n",
        "# plt.subplot(132)\n",
        "# I1_I2_shift = I1_I2 + I1_I2.min()\n",
        "# I1_I2_shift[I1_I2_shift>255] = 255\n",
        "# plt.imshow(I1_I2_shift, cmap=\"gray\")\n",
        "# plt.subplot(133)\n",
        "# I1_I2[I1_I2>255] = 255\n",
        "# I1_I2[I1_I2 <0] = 0\n",
        "# plt.imshow(I1_I2, cmap=\"gray\")"
      ],
      "metadata": {
        "id": "p4afRgHQYGZ3"
      },
      "execution_count": null,
      "outputs": []
    },
    {
      "cell_type": "markdown",
      "source": [
        "La amplitud es solo la intensidad sin tener en cuenta la posición de esa intensidad, es decir, no contiene información espacial. La fase contiene información de como esas intensidades recaen sobre otras."
      ],
      "metadata": {
        "id": "UgjePSPRZl6P"
      }
    },
    {
      "cell_type": "markdown",
      "source": [
        "# Parte 3: Imágenes híbridas"
      ],
      "metadata": {
        "id": "H0Ze05lXN2XV"
      }
    },
    {
      "cell_type": "code",
      "source": [
        "!wget -nc \"https://raw.githubusercontent.com/Jegovila/cursoVR/main/Practica4%3A%20Filtrado%20en%20frecuencia/data/marilyn.png\"\n",
        "!wget -nc \"https://raw.githubusercontent.com/Jegovila/cursoVR/main/Practica4%3A%20Filtrado%20en%20frecuencia/data/einstein.jpg\""
      ],
      "metadata": {
        "id": "tYtGEvSBN71F"
      },
      "execution_count": null,
      "outputs": []
    },
    {
      "cell_type": "markdown",
      "source": [
        "Filtro gaussiano"
      ],
      "metadata": {
        "id": "RdH2HGaTOar9"
      }
    },
    {
      "cell_type": "code",
      "source": [
        "def gaussian(r2, std=1):\n",
        "    return np.exp(-r2/(2.*std**2)) / (2.*np.pi*std**2)\n",
        "def make_gaussian(std=1, size=None):\n",
        "    if size is None:\n",
        "        size = np.floor(6 * std)\n",
        "        if size % 2 == 0:\n",
        "            size = size - 1\n",
        "        else:\n",
        "            size= size - 2\n",
        "    size = int(size) // 2\n",
        "    x, y = np.mgrid[-size:size+1, -size:size+1]\n",
        "    distance = x**2+ y**2\n",
        "    kernel = gaussian(r2=distance, std=std)\n",
        "    return kernel / kernel.sum()"
      ],
      "metadata": {
        "id": "2MEBJmj8OdST"
      },
      "execution_count": null,
      "outputs": []
    },
    {
      "cell_type": "markdown",
      "source": [
        "Imágenes de entrada"
      ],
      "metadata": {
        "id": "8gfYqI-UUCv_"
      }
    },
    {
      "cell_type": "code",
      "source": [
        "I1 = cv2.resize(cv2.imread('marilyn.png', cv2.IMREAD_GRAYSCALE), (300,300))\n",
        "I2 = cv2.resize(cv2.imread('einstein.jpg', cv2.IMREAD_GRAYSCALE), (300,300))\n",
        "\n",
        "plt.subplot(121)\n",
        "plt.imshow(I1, cmap='gray')\n",
        "plt.subplot(122)\n",
        "plt.imshow(I2, cmap='gray')\n",
        "plt.show()"
      ],
      "metadata": {
        "id": "d5fIDNvLOmNd"
      },
      "execution_count": null,
      "outputs": []
    },
    {
      "cell_type": "markdown",
      "source": [
        "Pasar al dominio de la frecuencia"
      ],
      "metadata": {
        "id": "GRG5neZzUGhD"
      }
    },
    {
      "cell_type": "code",
      "source": [
        "I1_fft = np.fft.fftshift(np.fft.fft2(I1))\n",
        "I2_fft = np.fft.fftshift(np.fft.fft2(I2))"
      ],
      "metadata": {
        "id": "65LO4uqLUF89"
      },
      "execution_count": null,
      "outputs": []
    },
    {
      "cell_type": "markdown",
      "source": [
        "Filtros pasa bajas y pasa altas"
      ],
      "metadata": {
        "id": "YU9UL4AHPXQ3"
      }
    },
    {
      "cell_type": "code",
      "source": [
        "cutoff_lpf = 10\n",
        "cutoff_hpf = 20\n",
        "\n",
        "lpf = make_gaussian(cutoff_lpf)\n",
        "hpf = lpf.max() - lpf\n",
        "\n",
        "# padding para hacer que tengan el mismo tamaño que las imágenes de entrada\n",
        "lpf = np.pad(lpf, [(I1.shape[0]//2-lpf.shape[0]//2,\n",
        "                  I1.shape[0]//2-lpf.shape[0]//2 - 1),\n",
        "                 (I1.shape[1]//2-lpf.shape[1]//2,\n",
        "                  I1.shape[1]//2-lpf.shape[1]//2 - 1)], mode='constant', constant_values=0)\n",
        "\n",
        "hpf = np.pad(hpf, [(I1.shape[0]//2-hpf.shape[0]//2,\n",
        "                  I1.shape[0]//2-hpf.shape[0]//2 - 1),\n",
        "                 (I1.shape[1]//2-hpf.shape[1]//2,\n",
        "                  I1.shape[1]//2-hpf.shape[1]//2 - 1)], mode='constant', constant_values=lpf.max())\n",
        "\n",
        "plt.subplot(121)\n",
        "plt.imshow(lpf, cmap='gray')\n",
        "plt.subplot(122)\n",
        "plt.imshow(hpf, cmap='gray')"
      ],
      "metadata": {
        "id": "lRojFKSWPbQj"
      },
      "execution_count": null,
      "outputs": []
    },
    {
      "cell_type": "markdown",
      "source": [
        "Filtramos las imágenes y aplicamos la transformada inversa para regresarlas al espacio de la imagen."
      ],
      "metadata": {
        "id": "338eqTg8P0px"
      }
    },
    {
      "cell_type": "code",
      "source": [
        "combined = np.fft.ifft2(np.multiply(I1_fft, lpf) + np.multiply(I2_fft, hpf))"
      ],
      "metadata": {
        "id": "gIDHj_S4P2bc"
      },
      "execution_count": null,
      "outputs": []
    },
    {
      "cell_type": "markdown",
      "source": [
        "Mostrar el resultado.\n",
        "\n",
        "¿Cambia cuando se ve a diferentes distancias?\n",
        "\n",
        "Cuando hacemos un submuestreo (nos alejamos), perdemos altas frecuencias. Cuando nos acercamos podemos ver más detalles (recuperamos altas frecuencias).\n",
        "\n",
        "Estamos filtrando a Marilyn con el pasabajas y Einstein con el pasaaltas. Así, al alejarnos estamos perdiendo la imagen de alta frecuencia (Einstein) y al acercarnos predominan."
      ],
      "metadata": {
        "id": "T0r6vBUhUwLk"
      }
    },
    {
      "cell_type": "code",
      "source": [
        "plt.imshow(np.abs(combined), cmap='gray')"
      ],
      "metadata": {
        "id": "JWkLS3SkT51R"
      },
      "execution_count": null,
      "outputs": []
    },
    {
      "cell_type": "markdown",
      "source": [
        "# Parte 4: Detección de imágenes borrosas\n"
      ],
      "metadata": {
        "id": "3nUcGIU_d1Rg"
      }
    },
    {
      "cell_type": "code",
      "source": [
        "!wget -nc \"https://raw.githubusercontent.com/Jegovila/cursoVR/main/Practica4%3A%20Filtrado%20en%20frecuencia/data/blurry.jpg\""
      ],
      "metadata": {
        "id": "VbVEL_CgixsO"
      },
      "execution_count": null,
      "outputs": []
    },
    {
      "cell_type": "code",
      "source": [
        "gray = cv2.imread(\"blurry.jpg\", cv2.IMREAD_GRAYSCALE)\n",
        "\n",
        "fft = np.fft.fft2(gray)\n",
        "fftShift = np.fft.fftshift(fft)"
      ],
      "metadata": {
        "id": "pxtYhDjzegbZ"
      },
      "execution_count": null,
      "outputs": []
    },
    {
      "cell_type": "markdown",
      "source": [
        "Calcular la magnitud de la imagen y luego la media"
      ],
      "metadata": {
        "id": "SkOFmipVgpAP"
      }
    },
    {
      "cell_type": "code",
      "source": [
        "magnitude = 20 * np.log(np.abs(fft))\n",
        "mean = np.mean(magnitude)"
      ],
      "metadata": {
        "id": "XVXeZp6lg3JL"
      },
      "execution_count": null,
      "outputs": []
    },
    {
      "cell_type": "markdown",
      "source": [
        "la imagen se considerará borrosa si la media de su magnitud está por debajo del umbral."
      ],
      "metadata": {
        "id": "3w4vi-dlg-8o"
      }
    },
    {
      "cell_type": "code",
      "source": [
        "umbral = 130\n",
        "print(\"Media: \", mean)\n",
        "if mean <= umbral:\n",
        "  print(\"Borrosa\")\n",
        "else:\n",
        "  print(\"Nítida\")\n",
        "\n",
        "plt.imshow(gray, cmap=\"gray\")"
      ],
      "metadata": {
        "id": "xYj_pmzBhTFt"
      },
      "execution_count": null,
      "outputs": []
    }
  ]
}