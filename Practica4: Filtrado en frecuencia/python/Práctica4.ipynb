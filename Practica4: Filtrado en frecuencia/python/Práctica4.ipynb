{
  "nbformat": 4,
  "nbformat_minor": 0,
  "metadata": {
    "colab": {
      "provenance": [],
      "authorship_tag": "ABX9TyPovjMGUe3eeqqNEpgCphYx",
      "include_colab_link": true
    },
    "kernelspec": {
      "name": "python3",
      "display_name": "Python 3"
    },
    "language_info": {
      "name": "python"
    }
  },
  "cells": [
    {
      "cell_type": "markdown",
      "metadata": {
        "id": "view-in-github",
        "colab_type": "text"
      },
      "source": [
        "<a href=\"https://colab.research.google.com/github/Jegovila/cursoVR/blob/main/Practica4%3A%20Filtrado%20en%20frecuencia/python/Pr%C3%A1ctica4.ipynb\" target=\"_parent\"><img src=\"https://colab.research.google.com/assets/colab-badge.svg\" alt=\"Open In Colab\"/></a>"
      ]
    },
    {
      "cell_type": "code",
      "execution_count": null,
      "metadata": {
        "id": "ikgFcfYL88gF"
      },
      "outputs": [],
      "source": [
        "!wget -nc \"https://raw.githubusercontent.com/Jegovila/cursoVR/main/Practica4%3A%20Filtrado%20en%20frecuencia/data/atico.jpg\"\n",
        "!wget -nc \"https://raw.githubusercontent.com/Jegovila/cursoVR/main/Practica4%3A%20Filtrado%20en%20frecuencia/data/bars.jpg\"\n",
        "!wget -nc \"https://raw.githubusercontent.com/Jegovila/cursoVR/main/Practica4%3A%20Filtrado%20en%20frecuencia/data/rocas.jpg\"\n",
        "!wget -nc \"https://raw.githubusercontent.com/Jegovila/cursoVR/main/Practica4%3A%20Filtrado%20en%20frecuencia/data/lena.png\""
      ]
    },
    {
      "cell_type": "code",
      "source": [
        "import cv2\n",
        "import numpy as np\n",
        "import matplotlib.pyplot as plt\n",
        "from google.colab.patches import cv2_imshow"
      ],
      "metadata": {
        "id": "6D43qBBh9Neg"
      },
      "execution_count": null,
      "outputs": []
    },
    {
      "cell_type": "code",
      "source": [
        "I = cv2.imread('lena.png', cv2.IMREAD_GRAYSCALE)\n",
        "F = np.fft.fft2(I)\n",
        "IShift = np.fft.fftshift(I)\n",
        "Fshift = np.fft.fftshift(F)"
      ],
      "metadata": {
        "id": "O6QGNyQ29Pa9"
      },
      "execution_count": 31,
      "outputs": []
    },
    {
      "cell_type": "markdown",
      "source": [
        "La siguiente línea dará un error"
      ],
      "metadata": {
        "id": "W_C5whgwBnyC"
      }
    },
    {
      "cell_type": "code",
      "source": [
        "plt.imshow(F, cmap=\"gray\")"
      ],
      "metadata": {
        "id": "MIQtE8_T-XVf"
      },
      "execution_count": null,
      "outputs": []
    },
    {
      "cell_type": "markdown",
      "source": [
        "Debido al tipo de dato que queremos desplegar"
      ],
      "metadata": {
        "id": "WlawpdPeBqVK"
      }
    },
    {
      "cell_type": "code",
      "source": [
        "print(F)"
      ],
      "metadata": {
        "id": "0MAaiXVtBbT3"
      },
      "execution_count": null,
      "outputs": []
    },
    {
      "cell_type": "code",
      "source": [
        "plt.imshow(np.abs(F), cmap=\"gray\")"
      ],
      "metadata": {
        "id": "imkefudkBf3b"
      },
      "execution_count": null,
      "outputs": []
    },
    {
      "cell_type": "markdown",
      "source": [
        "La línea anterior sigue sin mostrar los resultados correctamente debido a la escala a la que se encuentran los datos"
      ],
      "metadata": {
        "id": "VHgXz4GGByAM"
      }
    },
    {
      "cell_type": "code",
      "source": [
        "plt.imshow(np.log1p(np.abs(F)), cmap='gray')"
      ],
      "metadata": {
        "id": "tNNaOgEbB3GN"
      },
      "execution_count": null,
      "outputs": []
    },
    {
      "cell_type": "markdown",
      "source": [
        "Mostrar resultados"
      ],
      "metadata": {
        "id": "ogyAz8Do-VzK"
      }
    },
    {
      "cell_type": "code",
      "source": [
        "fig, ax = plt.subplots(1, 3, figsize=(20,10))\n",
        "fig.tight_layout()\n",
        "plt.clf()\n",
        "\n",
        "plt.subplot(1,3,1)\n",
        "plt.imshow(IShift, cmap=\"gray\")\n",
        "plt.title(\"Original\")\n",
        "plt.subplot(1,3,2)\n",
        "plt.imshow(np.log1p(np.abs(F)), cmap='gray')\n",
        "plt.title(\"Frecuencia\")\n",
        "plt.subplot(1,3,3)\n",
        "plt.imshow(np.log1p(np.abs(Fshift)), cmap='gray')\n",
        "plt.title(\"FFT-Shift\")"
      ],
      "metadata": {
        "id": "Ipr0M6i7-UPN"
      },
      "execution_count": null,
      "outputs": []
    },
    {
      "cell_type": "markdown",
      "source": [
        "# Filtrado"
      ],
      "metadata": {
        "id": "BJ-Q3AT7B_et"
      }
    },
    {
      "cell_type": "markdown",
      "source": [
        "## Filtros Ideales"
      ],
      "metadata": {
        "id": "xk9AxXUZD0WH"
      }
    },
    {
      "cell_type": "markdown",
      "source": [
        "Filtro"
      ],
      "metadata": {
        "id": "riMOE4d-ClIX"
      }
    },
    {
      "cell_type": "code",
      "source": [
        "M, N = F.shape\n",
        "H = np.zeros((M, N), dtype=np.float32)\n",
        "D0 = 30\n",
        "for u in range(M):\n",
        "    for v in range(N):\n",
        "        D = np.sqrt((u - M/2)**2 + (v - N/2)**2)\n",
        "        # ----Pasa bajas ideal-----\n",
        "        # if D <= D0:\n",
        "        #     H[u, v] = 1\n",
        "        # else:\n",
        "        #     H[u, v] = 0\n",
        "        # ----Pasa altas ideal----\n",
        "        if D <= D0:\n",
        "            H[u, v] = 0\n",
        "        else:\n",
        "            H[u, v] = 1\n",
        "\n",
        "plt.imshow(H, cmap=\"gray\")\n",
        "plt.axis('off')"
      ],
      "metadata": {
        "id": "9JuA0wnKCBtV"
      },
      "execution_count": null,
      "outputs": []
    },
    {
      "cell_type": "markdown",
      "source": [
        "Filtrado"
      ],
      "metadata": {
        "id": "ecKGg1CxCpo7"
      }
    },
    {
      "cell_type": "code",
      "source": [
        "Gshift = Fshift * H #Filtradoq\n",
        "G = np.fft.fftshift(Gshift)\n",
        "g = np.abs(np.fft.ifft2(G))\n",
        "\n",
        "fig, ax = plt.subplots(1, 3, figsize=(20,10))\n",
        "fig.tight_layout()\n",
        "plt.clf()\n",
        "\n",
        "plt.subplot(1,3,1)\n",
        "plt.imshow(np.log1p(np.abs(Gshift)), cmap='gray')\n",
        "plt.title(\"G shift\")\n",
        "plt.subplot(1,3,2)\n",
        "plt.imshow(np.log1p(np.abs(G)), cmap='gray')\n",
        "plt.title(\"G\")\n",
        "plt.subplot(1,3,3)\n",
        "plt.imshow(g, cmap='gray')\n",
        "plt.title(\"g\")"
      ],
      "metadata": {
        "id": "YOd-GNLqCqiF"
      },
      "execution_count": null,
      "outputs": []
    },
    {
      "cell_type": "markdown",
      "source": [
        "## Filtro box"
      ],
      "metadata": {
        "id": "ykAoTqBGD2VF"
      }
    },
    {
      "cell_type": "markdown",
      "source": [
        "Leer imagen"
      ],
      "metadata": {
        "id": "qSSxEpA1ERnD"
      }
    },
    {
      "cell_type": "code",
      "source": [
        "I = cv2.imread('lena.png', cv2.IMREAD_GRAYSCALE)\n",
        "F = np.fft.fft2(I)\n",
        "Fshift = np.fft.fftshift(F)\n",
        "\n",
        "fig, ax = plt.subplots(1, 2, figsize=(20,10))\n",
        "fig.tight_layout()\n",
        "plt.clf()\n",
        "\n",
        "plt.subplot(1,2,1)\n",
        "plt.imshow(I, cmap=\"gray\")\n",
        "plt.title(\"Original\")\n",
        "plt.subplot(1,2,2)\n",
        "plt.imshow(np.log1p(np.abs(F)), cmap='gray')\n",
        "plt.title(\"Frecuencia\")"
      ],
      "metadata": {
        "id": "9fw43sw6D4ds"
      },
      "execution_count": null,
      "outputs": []
    },
    {
      "cell_type": "markdown",
      "source": [
        "Filtro box"
      ],
      "metadata": {
        "id": "BE9FGNr0E18W"
      }
    },
    {
      "cell_type": "code",
      "source": [
        "M, N = F.shape\n",
        "H = np.zeros((M, N), dtype=np.float32)\n",
        "n = 11\n",
        "H[0:n, 0:n] = 1/(n*n)\n",
        "\n",
        "fig, ax = plt.subplots(1, 2, figsize=(20,10))\n",
        "fig.tight_layout()\n",
        "plt.clf()\n",
        "\n",
        "plt.subplot(1,2,1)\n",
        "plt.imshow(np.real(H), cmap='gray')\n",
        "plt.title(\"h\")\n",
        "plt.subplot(1,2,2)\n",
        "\n",
        "H = np.fft.fft2(H)\n",
        "plt.imshow(np.abs(np.fft.fftshift(H)), cmap='gray')\n",
        "plt.title(\"H\")"
      ],
      "metadata": {
        "id": "Oz8JNwHDE27-"
      },
      "execution_count": null,
      "outputs": []
    },
    {
      "cell_type": "markdown",
      "source": [
        "Filtrado"
      ],
      "metadata": {
        "id": "TduMAT3uFnVx"
      }
    },
    {
      "cell_type": "code",
      "source": [
        "%timeit G = F * H"
      ],
      "metadata": {
        "id": "9pCvilPoFoOC"
      },
      "execution_count": null,
      "outputs": []
    },
    {
      "cell_type": "code",
      "source": [
        "n = 11\n",
        "h = np.ones((n,n)) / (n*n)\n",
        "%timeit G2 = cv2.filter2D(I, -1, h)"
      ],
      "metadata": {
        "id": "SnEBn1xfQCMR"
      },
      "execution_count": null,
      "outputs": []
    },
    {
      "cell_type": "code",
      "source": [
        "fig, ax = plt.subplots(1, 2, figsize=(20,10))\n",
        "fig.tight_layout()\n",
        "plt.clf()\n",
        "\n",
        "plt.subplot(1,2,1)\n",
        "plt.imshow(np.log1p(np.abs(np.fft.fftshift(G))), cmap='gray')\n",
        "plt.title(\"G\")\n",
        "\n",
        "plt.subplot(1,2,2)\n",
        "g = np.abs(np.fft.ifft2(G))\n",
        "plt.imshow(g, cmap='gray')\n",
        "plt.title(\"g\")"
      ],
      "metadata": {
        "id": "JKO6YZErFrT2"
      },
      "execution_count": null,
      "outputs": []
    }
  ]
}