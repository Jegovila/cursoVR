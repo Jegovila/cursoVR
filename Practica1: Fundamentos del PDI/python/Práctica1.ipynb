{
  "nbformat": 4,
  "nbformat_minor": 0,
  "metadata": {
    "colab": {
      "provenance": [],
      "authorship_tag": "ABX9TyOiXcphQqSHAsmfehVtQzSH",
      "include_colab_link": true
    },
    "kernelspec": {
      "name": "python3",
      "display_name": "Python 3"
    },
    "language_info": {
      "name": "python"
    }
  },
  "cells": [
    {
      "cell_type": "markdown",
      "metadata": {
        "id": "view-in-github",
        "colab_type": "text"
      },
      "source": [
        "<a href=\"https://colab.research.google.com/github/Jegovila/cursoVR/blob/main/Practica1%3A%20Fundamentos%20del%20PDI/python/Pr%C3%A1ctica1.ipynb\" target=\"_parent\"><img src=\"https://colab.research.google.com/assets/colab-badge.svg\" alt=\"Open In Colab\"/></a>"
      ]
    },
    {
      "cell_type": "code",
      "execution_count": null,
      "metadata": {
        "id": "CaR7ckmyw__i"
      },
      "outputs": [],
      "source": [
        "!wget -nc \"https://raw.githubusercontent.com/Jegovila/cursoVR/main/Practica1%3A%20Fundamentos%20del%20PDI/data/fence.jpg\"\n",
        "!wget -nc \"https://raw.githubusercontent.com/Jegovila/cursoVR/main/Practica1%3A%20Fundamentos%20del%20PDI/data/lena.bmp\""
      ]
    },
    {
      "cell_type": "markdown",
      "source": [
        "Importar paquetes necesarios. El paquete cv2_imshow es necesario cuando queramos desplegar imágenes en google colab. No es necesario cuando se trabaje en local, opencv despliega las imágenes con cv2.imshow()"
      ],
      "metadata": {
        "id": "x9QFNrZBxwhY"
      }
    },
    {
      "cell_type": "code",
      "source": [
        "import cv2\n",
        "import numpy as np\n",
        "from google.colab.patches import cv2_imshow"
      ],
      "metadata": {
        "id": "pdL96INlxPTL"
      },
      "execution_count": 3,
      "outputs": []
    },
    {
      "cell_type": "markdown",
      "source": [
        "Para leer y desplegar una imagen"
      ],
      "metadata": {
        "id": "-LmbzwD7yArI"
      }
    },
    {
      "cell_type": "code",
      "source": [
        "I1 = cv2.imread(\"fence.jpg\")\n",
        "cv2_imshow(I1)"
      ],
      "metadata": {
        "id": "mx7elYzzxU-a"
      },
      "execution_count": null,
      "outputs": []
    },
    {
      "cell_type": "markdown",
      "source": [
        "Para hacer un muestreo de la imagen"
      ],
      "metadata": {
        "id": "a9OM_MvAyFxi"
      }
    },
    {
      "cell_type": "code",
      "source": [
        "paso = 2\n",
        "I2 = I1[::paso,::paso,:]\n",
        "\n",
        "print(\"Dimensiones imagen original: \", I1.shape)\n",
        "print(\"Dimensiones imagen muestrada: \", I2.shape)\n",
        "cv2_imshow(I2)"
      ],
      "metadata": {
        "id": "QRQs3TSsyKrw"
      },
      "execution_count": null,
      "outputs": []
    },
    {
      "cell_type": "markdown",
      "source": [
        "Notar los artefactos que aparecen cuando el muestreo no es el adecuado."
      ],
      "metadata": {
        "id": "7efk4ftWy8Ew"
      }
    },
    {
      "cell_type": "markdown",
      "source": [
        "# Transformaciones geométricas"
      ],
      "metadata": {
        "id": "M-VoBU_jzD_P"
      }
    },
    {
      "cell_type": "markdown",
      "source": [
        "Primero leemos la imagen y la convertimos a escala de grises."
      ],
      "metadata": {
        "id": "UaNlHshDzRhP"
      }
    },
    {
      "cell_type": "code",
      "source": [
        "I = cv2.imread(\"lena.bmp\")\n",
        "Ig = cv2.cvtColor(I, cv2.COLOR_BGR2GRAY)\n",
        "cv2_imshow(Ig)"
      ],
      "metadata": {
        "id": "ErtiB8zCzH3f"
      },
      "execution_count": null,
      "outputs": []
    },
    {
      "cell_type": "markdown",
      "source": [
        "Determinar ángulo de rotación y el desplazamiento."
      ],
      "metadata": {
        "id": "8HCcVqNVznAc"
      }
    },
    {
      "cell_type": "code",
      "source": [
        "theta = -np.pi / 6\n",
        "tx = 80\n",
        "ty = 150"
      ],
      "metadata": {
        "id": "QGrqhwKpzyvy"
      },
      "execution_count": 71,
      "outputs": []
    },
    {
      "cell_type": "markdown",
      "source": [
        "Aplicar la transformación calculando las nuevas coordenadas de cada pixel."
      ],
      "metadata": {
        "id": "w5_VZ2oS0lMN"
      }
    },
    {
      "cell_type": "code",
      "source": [
        "dim = Ig.shape\n",
        "dst = np.zeros((dim[0]+200, dim[1]+200, 1), np.uint8)\n",
        "\n",
        "for i in range(dim[0]):\n",
        "    for j in range(dim[1]):\n",
        "        x = int((i * np.cos(theta) + j * np.sin(theta)))\n",
        "        y = int((-i * np.sin(theta) + j * np.cos(theta)))\n",
        "\n",
        "        if height > x + tx > 0 and width > y + ty > 0:\n",
        "          dst[x + tx][y + ty] = Ig[i][j]\n",
        "\n",
        "cv2_imshow(dst)"
      ],
      "metadata": {
        "id": "LrBr_NwB1hRG"
      },
      "execution_count": null,
      "outputs": []
    },
    {
      "cell_type": "markdown",
      "source": [
        "Rellenar espacios negros"
      ],
      "metadata": {
        "id": "qR1-Fh06_wM-"
      }
    },
    {
      "cell_type": "code",
      "source": [
        "for i in range(dst.shape[0]-1):\n",
        "    for j in range(dst.shape[1]-1):\n",
        "        if dst[i][j] == 0:\n",
        "            dst[i][j] = dst[i][j+1]\n",
        "\n",
        "cv2_imshow(dst)"
      ],
      "metadata": {
        "id": "GwoXdcZH_yc0"
      },
      "execution_count": null,
      "outputs": []
    }
  ]
}