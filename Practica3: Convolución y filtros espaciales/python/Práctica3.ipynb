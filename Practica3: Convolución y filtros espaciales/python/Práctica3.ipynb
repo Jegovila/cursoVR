{
  "nbformat": 4,
  "nbformat_minor": 0,
  "metadata": {
    "colab": {
      "provenance": [],
      "authorship_tag": "ABX9TyNHzxT1oeodIrPNHWDhg8tm",
      "include_colab_link": true
    },
    "kernelspec": {
      "name": "python3",
      "display_name": "Python 3"
    },
    "language_info": {
      "name": "python"
    }
  },
  "cells": [
    {
      "cell_type": "markdown",
      "metadata": {
        "id": "view-in-github",
        "colab_type": "text"
      },
      "source": [
        "<a href=\"https://colab.research.google.com/github/Jegovila/cursoVR/blob/main/Practica3%3A%20Convoluci%C3%B3n%20y%20filtros%20espaciales/python/Pr%C3%A1ctica3.ipynb\" target=\"_parent\"><img src=\"https://colab.research.google.com/assets/colab-badge.svg\" alt=\"Open In Colab\"/></a>"
      ]
    },
    {
      "cell_type": "code",
      "execution_count": null,
      "metadata": {
        "id": "-Z_cnFjs0ujc"
      },
      "outputs": [],
      "source": [
        "!wget -nc \"https://raw.githubusercontent.com/Jegovila/cursoVR/main/Practica3%3A%20Convoluci%C3%B3n%20y%20filtros%20espaciales/data/lena.bmp\""
      ]
    },
    {
      "cell_type": "code",
      "source": [
        "import cv2\n",
        "import numpy as np\n",
        "import random\n",
        "import matplotlib.pyplot as plt"
      ],
      "metadata": {
        "id": "ZFY5X-ga02EK"
      },
      "execution_count": 6,
      "outputs": []
    },
    {
      "cell_type": "markdown",
      "source": [
        "# Suavizado"
      ],
      "metadata": {
        "id": "SWHV1q9Q1Dw8"
      }
    },
    {
      "cell_type": "markdown",
      "source": [
        "Filtro Box"
      ],
      "metadata": {
        "id": "OLS8dB5r1by9"
      }
    },
    {
      "cell_type": "code",
      "source": [
        "n = 7\n",
        "h = np.ones((n, n), np.float32)/(n*n)"
      ],
      "metadata": {
        "id": "TvydiDU11UOa"
      },
      "execution_count": 3,
      "outputs": []
    },
    {
      "cell_type": "markdown",
      "source": [
        "Filtro Gauss"
      ],
      "metadata": {
        "id": "7JoO7_Wd1dRb"
      }
    },
    {
      "cell_type": "code",
      "source": [
        "h = np.matrix('1 4 6 4 1;4 16 24 16 4;6 24 36 24 6;4 16 24 16 4;1 4 6 4 1')\n",
        "h = h * (1/256)"
      ],
      "metadata": {
        "id": "T2HPgq5H1elO"
      },
      "execution_count": 15,
      "outputs": []
    },
    {
      "cell_type": "markdown",
      "source": [
        "Suavizado"
      ],
      "metadata": {
        "id": "UXy1UG7q2gSA"
      }
    },
    {
      "cell_type": "code",
      "source": [
        "I1 = cv2.imread(\"lena.bmp\")\n",
        "I1 = cv2.cvtColor(I1, cv2.COLOR_BGR2GRAY)\n",
        "I2 = cv2.filter2D(I1, -1, h)"
      ],
      "metadata": {
        "id": "-V_g3iV-0_tR"
      },
      "execution_count": 4,
      "outputs": []
    },
    {
      "cell_type": "markdown",
      "source": [
        "Desplegar resultados"
      ],
      "metadata": {
        "id": "kWaTGmWy1lR6"
      }
    },
    {
      "cell_type": "code",
      "source": [
        "fig, ax = plt.subplots(1, 3, figsize=(10,10))\n",
        "fig.tight_layout()\n",
        "plt.clf()\n",
        "\n",
        "plt.subplot(1,2,1)\n",
        "plt.imshow(I1, cmap=\"gray\")\n",
        "plt.subplot(1,2,2)\n",
        "plt.imshow(I2, cmap=\"gray\")"
      ],
      "metadata": {
        "id": "cixkatrk1nPx"
      },
      "execution_count": null,
      "outputs": []
    },
    {
      "cell_type": "markdown",
      "source": [
        "# Bordes"
      ],
      "metadata": {
        "id": "p8kJ56Pe2jNC"
      }
    },
    {
      "cell_type": "markdown",
      "source": [
        "## Sobel"
      ],
      "metadata": {
        "id": "hLu5flfz5hA8"
      }
    },
    {
      "cell_type": "markdown",
      "source": [
        "Filtros"
      ],
      "metadata": {
        "id": "kgs3_Wqt2ndB"
      }
    },
    {
      "cell_type": "code",
      "source": [
        "# BOX\n",
        "n = 3\n",
        "h = np.ones((n, n), np.float32)/(n*n)\n",
        "\n",
        "# SOBEL\n",
        "hx = np.matrix('-1 0 1;-2 0 2;-1 0 1')\n",
        "hy = np.matrix('-1 -2 -1;0 0 0;1 2 1')"
      ],
      "metadata": {
        "id": "3g8EwK712la9"
      },
      "execution_count": 53,
      "outputs": []
    },
    {
      "cell_type": "code",
      "source": [
        "I1 = cv2.imread(\"lena.bmp\")\n",
        "\n",
        "gray = cv2.cvtColor(I1, cv2.COLOR_BGR2GRAY)\n",
        "gray_suavizado = cv2.filter2D(gray, -1, h)\n",
        "\n",
        "# sin suavizar\n",
        "sx = cv2.filter2D(gray, -1, hx)\n",
        "sy = cv2.filter2D(gray, -1, hy)\n",
        "s = cv2.addWeighted(sx, 0.5, sy, 0.5, 0)\n",
        "s = cv2.inRange(s,50,255)\n",
        "\n",
        "# suavizado\n",
        "sx_suavizado = cv2.filter2D(gray_suavizado, -1, hx)\n",
        "sy_suavizado = cv2.filter2D(gray_suavizado, -1, hy)\n",
        "s_suavizado = cv2.addWeighted(sx_suavizado, 0.5, sy_suavizado, 0.5, 0)\n",
        "s_suavizado = cv2.inRange(s_suavizado,50,255)"
      ],
      "metadata": {
        "id": "R1tjYC5S2rNg"
      },
      "execution_count": 61,
      "outputs": []
    },
    {
      "cell_type": "markdown",
      "source": [
        "Resultados"
      ],
      "metadata": {
        "id": "e09-BSRs3DxB"
      }
    },
    {
      "cell_type": "code",
      "source": [
        "fig, ax = plt.subplots(1, 3, figsize=(20,10))\n",
        "fig.tight_layout()\n",
        "plt.clf()\n",
        "\n",
        "plt.subplot(1,3,1)\n",
        "plt.imshow(gray, cmap=\"gray\")\n",
        "plt.title(\"Original\")\n",
        "plt.subplot(1,3,2)\n",
        "plt.imshow(255-s, cmap=\"binary\")\n",
        "plt.title(\"Sin suavizar\")\n",
        "plt.subplot(1,3,3)\n",
        "plt.imshow(255-s_suavizado, cmap=\"binary\")\n",
        "plt.title(\"Suavizada\")"
      ],
      "metadata": {
        "id": "CpA6hJy33Eot"
      },
      "execution_count": null,
      "outputs": []
    },
    {
      "cell_type": "markdown",
      "source": [
        "## Laplace"
      ],
      "metadata": {
        "id": "lj9QLazT5inX"
      }
    },
    {
      "cell_type": "code",
      "source": [
        "# BOX\n",
        "n = 3\n",
        "h = np.ones((n, n), np.float32)/(n*n)\n",
        "\n",
        "# Laplace\n",
        "hl = np.matrix('1 1 1;1 -8 1;1 1 1')"
      ],
      "metadata": {
        "id": "JUrzrSKM5kIW"
      },
      "execution_count": 64,
      "outputs": []
    },
    {
      "cell_type": "code",
      "source": [
        "I1 = cv2.imread(\"lena.bmp\")\n",
        "\n",
        "gray = cv2.cvtColor(I1, cv2.COLOR_BGR2GRAY)\n",
        "gray_s = cv2.filter2D(gray, -1, h)\n",
        "\n",
        "# --- sin suavizar\n",
        "dst = cv2.filter2D(gray, -1, hl)\n",
        "dst = cv2.inRange(dst,60,255)\n",
        "\n",
        "# --- Suavizada\n",
        "dst_s= cv2.filter2D(gray_s, -1, hl)\n",
        "dst_s = cv2.inRange(dst_s,15,255)"
      ],
      "metadata": {
        "id": "hYopix8o577T"
      },
      "execution_count": 66,
      "outputs": []
    },
    {
      "cell_type": "markdown",
      "source": [
        "Resultados"
      ],
      "metadata": {
        "id": "ihHYCIUt6HAw"
      }
    },
    {
      "cell_type": "code",
      "source": [
        "fig, ax = plt.subplots(1, 3, figsize=(20,10))\n",
        "fig.tight_layout()\n",
        "plt.clf()\n",
        "\n",
        "plt.subplot(1,3,1)\n",
        "plt.imshow(gray, cmap=\"gray\")\n",
        "plt.title(\"Original\")\n",
        "plt.subplot(1,3,2)\n",
        "plt.imshow(255-dst, cmap=\"binary\")\n",
        "plt.title(\"Sin suavizar\")\n",
        "plt.subplot(1,3,3)\n",
        "plt.imshow(255-dst_s, cmap=\"binary\")\n",
        "plt.title(\"Suavizada\")"
      ],
      "metadata": {
        "id": "zv1gxhAO6KG6"
      },
      "execution_count": null,
      "outputs": []
    },
    {
      "cell_type": "markdown",
      "source": [
        "# Mediana"
      ],
      "metadata": {
        "id": "yursgy2n7BQm"
      }
    },
    {
      "cell_type": "markdown",
      "source": [
        "## Ruido sal y pimienta"
      ],
      "metadata": {
        "id": "nX3NCLmK7C5c"
      }
    },
    {
      "cell_type": "code",
      "source": [
        "def add_noise(img):\n",
        "    row, col = img.shape\n",
        "    number_of_pixels = random.randint(1000, 10000)\n",
        "    for i in range(number_of_pixels):\n",
        "        y_coord = random.randint(0, row - 1)\n",
        "        x_coord = random.randint(0, col - 1)\n",
        "        img[y_coord][x_coord] = 255\n",
        "\n",
        "    number_of_pixels = random.randint(1000, 10000)\n",
        "    for i in range(number_of_pixels):\n",
        "        y_coord = random.randint(0, row - 1)\n",
        "        x_coord = random.randint(0, col - 1)\n",
        "        img[y_coord][x_coord] = 0\n",
        "    return img"
      ],
      "metadata": {
        "id": "3gg_2LPj7CXd"
      },
      "execution_count": 68,
      "outputs": []
    },
    {
      "cell_type": "markdown",
      "source": [
        "## Filtro de la mediana"
      ],
      "metadata": {
        "id": "h3qTN8uu7L7U"
      }
    },
    {
      "cell_type": "code",
      "source": [
        "I1 = cv2.imread(\"lena.bmp\")\n",
        "\n",
        "# BOX\n",
        "n = 3\n",
        "h = np.ones((n, n), np.float32)/(n*n)\n",
        "\n",
        "gray = cv2.cvtColor(I1, cv2.COLOR_BGR2GRAY)\n",
        "\n",
        "ruido = add_noise(gray)\n",
        "\n",
        "ruido_box = cv2.filter2D(ruido, -1, h)\n",
        "dst = cv2.medianBlur(ruido, 3)"
      ],
      "metadata": {
        "id": "XN6nge0K7KSb"
      },
      "execution_count": 74,
      "outputs": []
    },
    {
      "cell_type": "markdown",
      "source": [
        "Resultados"
      ],
      "metadata": {
        "id": "21nzKylA7aD5"
      }
    },
    {
      "cell_type": "code",
      "source": [
        "fig, ax = plt.subplots(1, 3, figsize=(20,10))\n",
        "fig.tight_layout()\n",
        "plt.clf()\n",
        "\n",
        "plt.subplot(1,3,1)\n",
        "plt.imshow(ruido, cmap=\"gray\")\n",
        "plt.title(\"Original\")\n",
        "plt.subplot(1,3,2)\n",
        "plt.imshow(ruido_box, cmap=\"gray\")\n",
        "plt.title(\"Box\")\n",
        "plt.subplot(1,3,3)\n",
        "plt.imshow(dst, cmap=\"gray\")\n",
        "plt.title(\"Mediana\")"
      ],
      "metadata": {
        "id": "O-MfL4OV7a11"
      },
      "execution_count": null,
      "outputs": []
    }
  ]
}